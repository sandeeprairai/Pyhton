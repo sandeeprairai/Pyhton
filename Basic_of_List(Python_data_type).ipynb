{
  "nbformat": 4,
  "nbformat_minor": 0,
  "metadata": {
    "colab": {
      "provenance": []
    },
    "kernelspec": {
      "name": "python3",
      "display_name": "Python 3"
    },
    "language_info": {
      "name": "python"
    }
  },
  "cells": [
    {
      "cell_type": "code",
      "execution_count": null,
      "metadata": {
        "colab": {
          "base_uri": "https://localhost:8080/"
        },
        "id": "rAri7kyCOTvI",
        "outputId": "d69247d5-aa12-48f6-9e3b-c3ad46610cd9"
      },
      "outputs": [
        {
          "output_type": "stream",
          "name": "stdout",
          "text": [
            "140332488268352\n",
            "9793088\n",
            "9793120\n",
            "9793152\n",
            "9793088\n",
            "9793120\n",
            "9793152\n"
          ]
        }
      ],
      "source": [
        "L=[1,2,3]\n",
        "\n",
        "print(id(L))\n",
        "print(id(L[0]))\n",
        "print(id(L[1]))\n",
        "print(id(L[2]))\n",
        "print(id(1))\n",
        "print(id(2))\n",
        "print(id(3))\n"
      ]
    },
    {
      "cell_type": "code",
      "source": [
        "L=[1,2,3,4]\n",
        "L1=[3,2,1]\n",
        "L==L1\n"
      ],
      "metadata": {
        "colab": {
          "base_uri": "https://localhost:8080/"
        },
        "id": "TQg0iZklPF8d",
        "outputId": "df08cf80-7a51-48ea-902f-3dfeb5be176f"
      },
      "execution_count": null,
      "outputs": [
        {
          "output_type": "execute_result",
          "data": {
            "text/plain": [
              "False"
            ]
          },
          "metadata": {},
          "execution_count": 2
        }
      ]
    },
    {
      "cell_type": "code",
      "source": [
        "#Creating alist\n",
        "print([])\n",
        "#1D -homo\n",
        "print([1,2,3,4,5])\n",
        "#2D\n",
        "print([1,2,3,[4,5]])\n",
        "#3D\n",
        "print([[[1,2],[3,4]],[[5,6],[7,8]]])\n",
        "#hetrogenous\n",
        "print([1,True,5.6,5+6j])\n",
        "#Using type Conversion\n",
        "print(list('hello'))\n"
      ],
      "metadata": {
        "colab": {
          "base_uri": "https://localhost:8080/"
        },
        "id": "7G2o2ZR2PlV9",
        "outputId": "fde93282-6395-4202-eb39-51a098a1a2cc"
      },
      "execution_count": null,
      "outputs": [
        {
          "output_type": "stream",
          "name": "stdout",
          "text": [
            "[]\n",
            "[1, 2, 3, 4, 5]\n",
            "[1, 2, 3, [4, 5]]\n",
            "[[[1, 2], [3, 4]], [[5, 6], [7, 8]]]\n",
            "[1, True, 5.6, (5+6j)]\n",
            "['h', 'e', 'l', 'l', 'o']\n"
          ]
        }
      ]
    },
    {
      "cell_type": "code",
      "source": [
        "#Accesing items from a list\n",
        "L=[[[1,2],[3,4]],[[5,6],[7,8]]]\n",
        "L=[1,2,3,4,5,6]\n",
        "print(L[::-1])"
      ],
      "metadata": {
        "colab": {
          "base_uri": "https://localhost:8080/"
        },
        "id": "HXs2dCpfPrf3",
        "outputId": "98906572-0746-4a22-942e-655dab23b21f"
      },
      "execution_count": null,
      "outputs": [
        {
          "output_type": "stream",
          "name": "stdout",
          "text": [
            "[6, 5, 4, 3, 2, 1]\n"
          ]
        }
      ]
    },
    {
      "cell_type": "code",
      "source": [
        "#Adding items to alist\n",
        "L=[1,2,3,4,5]\n",
        "L.append(True)\n",
        "print(L)"
      ],
      "metadata": {
        "colab": {
          "base_uri": "https://localhost:8080/"
        },
        "id": "eHP2fPXHQxLd",
        "outputId": "45afa733-0cc4-4a57-b42c-0084d6bf05c6"
      },
      "execution_count": null,
      "outputs": [
        {
          "output_type": "stream",
          "name": "stdout",
          "text": [
            "[1, 2, 3, 4, 5, True]\n"
          ]
        }
      ]
    },
    {
      "cell_type": "code",
      "source": [
        "#extend\n",
        "L=[1,2,3,4,5]\n",
        "L.extend([6,7,8])\n",
        "print(L)"
      ],
      "metadata": {
        "colab": {
          "base_uri": "https://localhost:8080/"
        },
        "id": "6BQnGeqjQ_gO",
        "outputId": "58e31b97-524f-4e56-9ae1-0818321fff6b"
      },
      "execution_count": null,
      "outputs": [
        {
          "output_type": "stream",
          "name": "stdout",
          "text": [
            "[1, 2, 3, 4, 5, 6, 7, 8]\n"
          ]
        }
      ]
    },
    {
      "cell_type": "code",
      "source": [
        "#insert\n",
        "L=[1,2,3,4,5]\n",
        "L.insert(1,100)\n",
        "print(L)"
      ],
      "metadata": {
        "colab": {
          "base_uri": "https://localhost:8080/"
        },
        "id": "zZ24UnKURH1s",
        "outputId": "9c994a41-ae32-4fee-8374-6d6d80aa0f87"
      },
      "execution_count": null,
      "outputs": [
        {
          "output_type": "stream",
          "name": "stdout",
          "text": [
            "[1, 100, 2, 3, 4, 5]\n"
          ]
        }
      ]
    },
    {
      "cell_type": "code",
      "source": [
        "#Editing items in a list\n",
        "L=[1,2,3,4,5,6]\n",
        "L[-1]=500\n",
        "L[1:4]=[200,300,400]\n",
        "print(L)"
      ],
      "metadata": {
        "colab": {
          "base_uri": "https://localhost:8080/"
        },
        "id": "NBvwWVT1RS3-",
        "outputId": "e4e0525b-1902-452f-c130-af82fd8fae6b"
      },
      "execution_count": null,
      "outputs": [
        {
          "output_type": "stream",
          "name": "stdout",
          "text": [
            "[1, 200, 300, 400, 5, 500]\n"
          ]
        }
      ]
    },
    {
      "cell_type": "code",
      "source": [
        "#deleting items from alist\n",
        "L=[1,2,3,4,5]\n",
        "del L[-1]\n",
        "print(L)\n",
        "del L[1:3]\n",
        "print(L)"
      ],
      "metadata": {
        "colab": {
          "base_uri": "https://localhost:8080/"
        },
        "id": "4Ne6z0ZsRgRp",
        "outputId": "f4fb35dc-914e-4b72-e869-5138bad6c2a4"
      },
      "execution_count": null,
      "outputs": [
        {
          "output_type": "stream",
          "name": "stdout",
          "text": [
            "[1, 2, 3, 4]\n",
            "[1, 4]\n"
          ]
        }
      ]
    },
    {
      "cell_type": "code",
      "source": [
        "#remove\n",
        "L=[1,2,3,4,5]\n",
        "L.remove(5)\n",
        "print(L)"
      ],
      "metadata": {
        "colab": {
          "base_uri": "https://localhost:8080/"
        },
        "id": "sJeDy-GjRqgR",
        "outputId": "3bfc740f-b572-40e4-d728-84e80a3ee990"
      },
      "execution_count": null,
      "outputs": [
        {
          "output_type": "stream",
          "name": "stdout",
          "text": [
            "[1, 2, 3, 4]\n"
          ]
        }
      ]
    },
    {
      "cell_type": "code",
      "source": [
        "#pop\n",
        "L=[1,2,3,4,5]\n",
        "L.pop()\n",
        "print(L)"
      ],
      "metadata": {
        "colab": {
          "base_uri": "https://localhost:8080/"
        },
        "id": "FmUzTIEkR5ML",
        "outputId": "879b7e37-d250-491c-a418-bcf865e5bb70"
      },
      "execution_count": null,
      "outputs": [
        {
          "output_type": "stream",
          "name": "stdout",
          "text": [
            "[1, 2, 3, 4]\n"
          ]
        }
      ]
    },
    {
      "cell_type": "code",
      "source": [
        "#clear\n",
        "L=[1,2,3,4,5]\n",
        "L.clear()\n",
        "print(L)"
      ],
      "metadata": {
        "colab": {
          "base_uri": "https://localhost:8080/"
        },
        "id": "jLO0_7BLSBLM",
        "outputId": "05e44a6e-dfa8-4436-ef4c-9e0d27bff104"
      },
      "execution_count": null,
      "outputs": [
        {
          "output_type": "stream",
          "name": "stdout",
          "text": [
            "[]\n"
          ]
        }
      ]
    },
    {
      "cell_type": "code",
      "source": [
        "#opeartaion on List\n",
        "#Arithmetic (+,*)\n",
        "L1=[1,2,3,4]\n",
        "L2=[5,6,7,8]\n",
        "print(L1+L2)"
      ],
      "metadata": {
        "colab": {
          "base_uri": "https://localhost:8080/"
        },
        "id": "KRrhH15VSL38",
        "outputId": "69964ef8-e888-4369-ed34-4b480d62d2d6"
      },
      "execution_count": null,
      "outputs": [
        {
          "output_type": "stream",
          "name": "stdout",
          "text": [
            "[1, 2, 3, 4, 5, 6, 7, 8]\n"
          ]
        }
      ]
    },
    {
      "cell_type": "code",
      "source": [
        "print(L1*3)"
      ],
      "metadata": {
        "colab": {
          "base_uri": "https://localhost:8080/"
        },
        "id": "i6Tjhe5XSYde",
        "outputId": "e7cdf63c-ba4e-4e03-a838-6e7899a03d56"
      },
      "execution_count": null,
      "outputs": [
        {
          "output_type": "stream",
          "name": "stdout",
          "text": [
            "[1, 2, 3, 4, 1, 2, 3, 4, 1, 2, 3, 4]\n"
          ]
        }
      ]
    },
    {
      "cell_type": "code",
      "source": [
        "#Concatenation/merge\n",
        "print(L1 + L2)"
      ],
      "metadata": {
        "colab": {
          "base_uri": "https://localhost:8080/"
        },
        "id": "2-l2X7JvSbVb",
        "outputId": "e6ff0618-7923-4eda-9f43-d1f8c4f5283a"
      },
      "execution_count": null,
      "outputs": [
        {
          "output_type": "stream",
          "name": "stdout",
          "text": [
            "[1, 2, 3, 4, 5, 6, 7, 8]\n"
          ]
        }
      ]
    },
    {
      "cell_type": "code",
      "source": [
        "print(L1*3)"
      ],
      "metadata": {
        "colab": {
          "base_uri": "https://localhost:8080/"
        },
        "id": "ZK7o3jYkShty",
        "outputId": "dc764d2b-58e2-4071-a88e-1535710d8d0a"
      },
      "execution_count": null,
      "outputs": [
        {
          "output_type": "stream",
          "name": "stdout",
          "text": [
            "[1, 2, 3, 4, 1, 2, 3, 4, 1, 2, 3, 4]\n"
          ]
        }
      ]
    },
    {
      "cell_type": "code",
      "source": [
        "L1=[1,2,3,4,5]\n",
        "L2=[1,2,3,4,[5,6]]\n",
        "\n",
        "print(5 not in L1)\n",
        "print([5,6] in L2)"
      ],
      "metadata": {
        "colab": {
          "base_uri": "https://localhost:8080/"
        },
        "id": "vbuHl5DZSj5G",
        "outputId": "4a3aff69-7292-40fa-8796-33b5a4633d63"
      },
      "execution_count": null,
      "outputs": [
        {
          "output_type": "stream",
          "name": "stdout",
          "text": [
            "False\n",
            "True\n"
          ]
        }
      ]
    },
    {
      "cell_type": "code",
      "source": [
        "#Loops\n",
        "L1=[1,2,3,4,5]\n",
        "L2=[1,2,3,4,[5,6]]\n",
        "L3=[[[1,2],[3,4]],[[5,6],[7,8]]]\n",
        "\n",
        "for i in L3:\n",
        "  print(i)"
      ],
      "metadata": {
        "colab": {
          "base_uri": "https://localhost:8080/"
        },
        "id": "NcaKIOIoStYR",
        "outputId": "d930b0d7-b376-4f75-a4d2-ded0dc6b1e0a"
      },
      "execution_count": null,
      "outputs": [
        {
          "output_type": "stream",
          "name": "stdout",
          "text": [
            "[[1, 2], [3, 4]]\n",
            "[[5, 6], [7, 8]]\n"
          ]
        }
      ]
    },
    {
      "cell_type": "code",
      "source": [
        "#List function\n",
        "L=[2,1,5,7,0]\n",
        "print(len(L))\n",
        "print(min(L))\n",
        "print(max(L))\n",
        "print(sorted(L,reverse=True))"
      ],
      "metadata": {
        "colab": {
          "base_uri": "https://localhost:8080/"
        },
        "id": "ZjUrUb8KS87x",
        "outputId": "cd034503-b057-4c74-a08a-99651739745e"
      },
      "execution_count": null,
      "outputs": [
        {
          "output_type": "stream",
          "name": "stdout",
          "text": [
            "5\n",
            "0\n",
            "7\n",
            "[7, 5, 2, 1, 0]\n"
          ]
        }
      ]
    },
    {
      "cell_type": "code",
      "source": [
        "#count\n",
        "L=[1,2,1,3,4,1,5]\n",
        "L.count(5)"
      ],
      "metadata": {
        "colab": {
          "base_uri": "https://localhost:8080/"
        },
        "id": "utA9Vk0dTMqu",
        "outputId": "4f28ea38-ddb4-429c-9de1-6391b53f8af6"
      },
      "execution_count": null,
      "outputs": [
        {
          "output_type": "execute_result",
          "data": {
            "text/plain": [
              "1"
            ]
          },
          "metadata": {},
          "execution_count": 25
        }
      ]
    },
    {
      "cell_type": "code",
      "source": [
        "#index\n",
        "L=[1,2,1,3,4,1,5]\n",
        "L.index(1)"
      ],
      "metadata": {
        "colab": {
          "base_uri": "https://localhost:8080/"
        },
        "id": "NngSEWU6TUVC",
        "outputId": "f626c9f3-a54b-4c95-fbd3-bf562e141210"
      },
      "execution_count": null,
      "outputs": [
        {
          "output_type": "execute_result",
          "data": {
            "text/plain": [
              "0"
            ]
          },
          "metadata": {},
          "execution_count": 26
        }
      ]
    },
    {
      "cell_type": "code",
      "source": [
        "#reverse\n",
        "L=[2,1,5,7,0]\n",
        "L.reverse()\n",
        "print(L)"
      ],
      "metadata": {
        "colab": {
          "base_uri": "https://localhost:8080/"
        },
        "id": "QY4dpcrwTa_j",
        "outputId": "7373396b-7549-470d-842c-12e6f8acfaa4"
      },
      "execution_count": null,
      "outputs": [
        {
          "output_type": "stream",
          "name": "stdout",
          "text": [
            "[0, 7, 5, 1, 2]\n"
          ]
        }
      ]
    },
    {
      "cell_type": "code",
      "source": [
        "#sort vs sorted\n",
        "L=[2,1,5,7,0]\n",
        "print(L)\n",
        "print(sorted(L))\n",
        "print(L)\n",
        "L.sort\n",
        "print(L)"
      ],
      "metadata": {
        "colab": {
          "base_uri": "https://localhost:8080/"
        },
        "id": "593OXzE9TjQe",
        "outputId": "52933834-08f8-4a1d-845a-ecc646baaf8a"
      },
      "execution_count": null,
      "outputs": [
        {
          "output_type": "stream",
          "name": "stdout",
          "text": [
            "[2, 1, 5, 7, 0]\n",
            "[0, 1, 2, 5, 7]\n",
            "[2, 1, 5, 7, 0]\n",
            "[2, 1, 5, 7, 0]\n"
          ]
        }
      ]
    },
    {
      "cell_type": "code",
      "source": [
        "#copy -> shallow\n",
        "L=[2,1,5,7,0]\n",
        "print(L)\n",
        "print(id(L))\n",
        "L1=L.copy()\n",
        "print(L1)\n",
        "print(id(L1))"
      ],
      "metadata": {
        "colab": {
          "base_uri": "https://localhost:8080/"
        },
        "id": "rQY6jgAVTvhc",
        "outputId": "2b710d3f-667e-497b-c0d6-14f513d01cbd"
      },
      "execution_count": null,
      "outputs": [
        {
          "output_type": "stream",
          "name": "stdout",
          "text": [
            "[2, 1, 5, 7, 0]\n",
            "140332486303552\n",
            "[2, 1, 5, 7, 0]\n",
            "140332486320896\n"
          ]
        }
      ]
    },
    {
      "cell_type": "code",
      "source": [
        "#List comprehension\n",
        "L=[]\n",
        "for i  in range(1,11):\n",
        "  L.append(i)\n",
        "print(L)"
      ],
      "metadata": {
        "colab": {
          "base_uri": "https://localhost:8080/"
        },
        "id": "LjI5SCvlUGaf",
        "outputId": "b351f54f-46cf-4302-f52f-82429485040e"
      },
      "execution_count": null,
      "outputs": [
        {
          "output_type": "stream",
          "name": "stdout",
          "text": [
            "[1, 2, 3, 4, 5, 6, 7, 8, 9, 10]\n"
          ]
        }
      ]
    },
    {
      "cell_type": "code",
      "source": [
        "L=[i for i in range(1,11)]\n",
        "print(L)"
      ],
      "metadata": {
        "colab": {
          "base_uri": "https://localhost:8080/"
        },
        "id": "wfaEkQTdUURo",
        "outputId": "a307c804-069e-45f2-c95a-7963eae5852c"
      },
      "execution_count": null,
      "outputs": [
        {
          "output_type": "stream",
          "name": "stdout",
          "text": [
            "[1, 2, 3, 4, 5, 6, 7, 8, 9, 10]\n"
          ]
        }
      ]
    },
    {
      "cell_type": "code",
      "source": [
        "v=[2,3,4]\n",
        "s=-3\n",
        "[s*i for i in v]"
      ],
      "metadata": {
        "colab": {
          "base_uri": "https://localhost:8080/"
        },
        "id": "uY3hxS-cUaWb",
        "outputId": "572befca-ad52-4f13-a833-e46f9f68bde5"
      },
      "execution_count": null,
      "outputs": [
        {
          "output_type": "execute_result",
          "data": {
            "text/plain": [
              "[-6, -9, -12]"
            ]
          },
          "metadata": {},
          "execution_count": 34
        }
      ]
    },
    {
      "cell_type": "code",
      "source": [
        "#add squares\n",
        "L=[1,2,3,4,5]\n",
        "[i**2 for i in L]"
      ],
      "metadata": {
        "colab": {
          "base_uri": "https://localhost:8080/"
        },
        "id": "ygXaFd_vUezO",
        "outputId": "899715bb-79d1-4f4e-ad65-57634a217c19"
      },
      "execution_count": null,
      "outputs": [
        {
          "output_type": "execute_result",
          "data": {
            "text/plain": [
              "[1, 4, 9, 16, 25]"
            ]
          },
          "metadata": {},
          "execution_count": 35
        }
      ]
    },
    {
      "cell_type": "code",
      "source": [
        "[i for i in range(1,51)if i%5==0]"
      ],
      "metadata": {
        "colab": {
          "base_uri": "https://localhost:8080/"
        },
        "id": "lx-V8wpoUntp",
        "outputId": "12d37ae9-4775-42a4-a69d-9d26e70d331d"
      },
      "execution_count": null,
      "outputs": [
        {
          "output_type": "execute_result",
          "data": {
            "text/plain": [
              "[5, 10, 15, 20, 25, 30, 35, 40, 45, 50]"
            ]
          },
          "metadata": {},
          "execution_count": 36
        }
      ]
    },
    {
      "cell_type": "code",
      "source": [
        "language=['java','python','php','c','javascript']\n",
        "[language for language in language if language.startswith('p')]"
      ],
      "metadata": {
        "colab": {
          "base_uri": "https://localhost:8080/"
        },
        "id": "5Sui1AWAUvxB",
        "outputId": "b890e91b-1c53-4827-c636-2f8bb62e5e4d"
      },
      "execution_count": null,
      "outputs": [
        {
          "output_type": "execute_result",
          "data": {
            "text/plain": [
              "['python', 'php']"
            ]
          },
          "metadata": {},
          "execution_count": 37
        }
      ]
    },
    {
      "cell_type": "code",
      "source": [
        "basket=['apple','guava','cherry','banana']\n",
        "my_fruits=['apple','kiwi','grapes','banana']"
      ],
      "metadata": {
        "id": "ddNdVLW_VGeG"
      },
      "execution_count": null,
      "outputs": []
    },
    {
      "cell_type": "code",
      "source": [
        "[fruit for fruit in my_fruits if fruit in basket if fruit.startswith('a')]"
      ],
      "metadata": {
        "colab": {
          "base_uri": "https://localhost:8080/"
        },
        "id": "ksSufIIPVUyj",
        "outputId": "4a511dd2-733c-48a8-be1c-074d7e421b31"
      },
      "execution_count": null,
      "outputs": [
        {
          "output_type": "execute_result",
          "data": {
            "text/plain": [
              "['apple']"
            ]
          },
          "metadata": {},
          "execution_count": 39
        }
      ]
    },
    {
      "cell_type": "code",
      "source": [
        "[[i*j for i in range(1,4)] for j in range(1,4)]"
      ],
      "metadata": {
        "colab": {
          "base_uri": "https://localhost:8080/"
        },
        "id": "3V781JK4VgNx",
        "outputId": "3b339e43-ad09-446a-b9be-fef073c1b288"
      },
      "execution_count": null,
      "outputs": [
        {
          "output_type": "execute_result",
          "data": {
            "text/plain": [
              "[[1, 2, 3], [2, 4, 6], [3, 6, 9]]"
            ]
          },
          "metadata": {},
          "execution_count": 40
        }
      ]
    },
    {
      "cell_type": "code",
      "source": [
        "L1=[1,2,3,4]\n",
        "L2=[5,6,7,8]\n",
        "[i*j for i in L1 for j in L2]"
      ],
      "metadata": {
        "colab": {
          "base_uri": "https://localhost:8080/"
        },
        "id": "SYpqOv2vVvGb",
        "outputId": "ed7f2375-e63f-4714-c1b8-b9743e41c4f3"
      },
      "execution_count": null,
      "outputs": [
        {
          "output_type": "execute_result",
          "data": {
            "text/plain": [
              "[5, 6, 7, 8, 10, 12, 14, 16, 15, 18, 21, 24, 20, 24, 28, 32]"
            ]
          },
          "metadata": {},
          "execution_count": 41
        }
      ]
    },
    {
      "cell_type": "code",
      "source": [
        "#2 ways to traverse a list\n",
        "#itemwise\n",
        "L=[1,2,3,4]\n",
        "for i in L:\n",
        "  print(i)"
      ],
      "metadata": {
        "colab": {
          "base_uri": "https://localhost:8080/"
        },
        "id": "pDb4dMKsV4I6",
        "outputId": "01fb27fc-6185-4edf-e8b0-dda07a829aac"
      },
      "execution_count": null,
      "outputs": [
        {
          "output_type": "stream",
          "name": "stdout",
          "text": [
            "1\n",
            "2\n",
            "3\n",
            "4\n"
          ]
        }
      ]
    },
    {
      "cell_type": "code",
      "source": [
        "#indexwise\n",
        "L=[1,2,3,4]\n",
        "for i in range(0,len(L)):\n",
        "  print(L[i])\n"
      ],
      "metadata": {
        "colab": {
          "base_uri": "https://localhost:8080/"
        },
        "id": "-871V4goWG2g",
        "outputId": "d831544a-74ea-4424-9830-bfb7d2ee31b9"
      },
      "execution_count": null,
      "outputs": [
        {
          "output_type": "stream",
          "name": "stdout",
          "text": [
            "1\n",
            "2\n",
            "3\n",
            "4\n"
          ]
        }
      ]
    },
    {
      "cell_type": "code",
      "source": [
        "#zip\n",
        "L1=[1,2,3,4]\n",
        "L2=[1,-2,-3,-4]\n",
        "list(zip(L1,L2))\n",
        "[i+j for i,j in zip(L1,L2)]\n"
      ],
      "metadata": {
        "colab": {
          "base_uri": "https://localhost:8080/"
        },
        "id": "Jdji4RX3WRua",
        "outputId": "b5239f88-8203-49e5-e47c-53db8da16740"
      },
      "execution_count": null,
      "outputs": [
        {
          "output_type": "execute_result",
          "data": {
            "text/plain": [
              "[2, 0, 0, 0]"
            ]
          },
          "metadata": {},
          "execution_count": 45
        }
      ]
    },
    {
      "cell_type": "code",
      "source": [
        "L=[1,2,print,type,input]\n",
        "print(L)"
      ],
      "metadata": {
        "colab": {
          "base_uri": "https://localhost:8080/"
        },
        "id": "Of62extTWiDp",
        "outputId": "1e390e50-5f09-4ab4-a527-1d946758f6a2"
      },
      "execution_count": null,
      "outputs": [
        {
          "output_type": "stream",
          "name": "stdout",
          "text": [
            "[1, 2, <built-in function print>, <class 'type'>, <bound method Kernel.raw_input of <google.colab._kernel.Kernel object at 0x7fa1fc0333d0>>]\n"
          ]
        }
      ]
    },
    {
      "cell_type": "code",
      "source": [
        "a=[1,2,3]\n",
        "b=a.copy()\n",
        "print(a)\n",
        "print(b)\n",
        "a.append(4)\n",
        "print(a)\n",
        "print(b)"
      ],
      "metadata": {
        "colab": {
          "base_uri": "https://localhost:8080/"
        },
        "id": "cQQcmItdWzlk",
        "outputId": "e3ca0c47-f8ef-4e07-a820-787d1a07559d"
      },
      "execution_count": null,
      "outputs": [
        {
          "output_type": "stream",
          "name": "stdout",
          "text": [
            "[1, 2, 3]\n",
            "[1, 2, 3]\n",
            "[1, 2, 3, 4]\n",
            "[1, 2, 3]\n"
          ]
        }
      ]
    },
    {
      "cell_type": "code",
      "source": [],
      "metadata": {
        "id": "EFmVLgAvW9NG"
      },
      "execution_count": null,
      "outputs": []
    }
  ]
}