{
  "nbformat": 4,
  "nbformat_minor": 0,
  "metadata": {
    "colab": {
      "provenance": []
    },
    "kernelspec": {
      "name": "python3",
      "display_name": "Python 3"
    },
    "language_info": {
      "name": "python"
    }
  },
  "cells": [
    {
      "cell_type": "code",
      "execution_count": null,
      "metadata": {
        "id": "-T8uHivVqhwv"
      },
      "outputs": [],
      "source": []
    },
    {
      "cell_type": "markdown",
      "source": [
        "###class Relationship\n",
        "- Aggregation\n",
        "-Inheritance"
      ],
      "metadata": {
        "id": "IJaqXj0-NXUk"
      }
    },
    {
      "cell_type": "code",
      "source": [
        "#Aggregation(Has-A relationship)\n",
        "class Customer:\n",
        "\n",
        "  def __init__(self,name,gender,address):\n",
        "    self.name=name\n",
        "    self.gender=gender\n",
        "    self.address=address\n",
        "\n",
        "  def print_address(self):\n",
        "    print(self.address._Address__city,self.address.pin,self.address.state)\n",
        "\n",
        "  def edit_profile(self,new_name,new_city,new_pin,new_state):\n",
        "    self.name=new_name\n",
        "    self.address.edit_address(new_city,new_pin,new_state)\n",
        "\n",
        "class Address:\n",
        "  def __init__(self,city,pin,state):\n",
        "    self.__city=city\n",
        "    self.pin=pin\n",
        "    self.state=state\n",
        "\n",
        "  def get_city(self):\n",
        "    return self.__city\n",
        "\n",
        "  def edit_address(self,new_city,new_pin,new_state):\n",
        "    self.__city=new_city\n",
        "    self.pin=new_pin\n",
        "    self.state=new_state\n",
        "\n",
        "add1=Address('gurgaon',122011,'haryana')\n",
        "cust=Customer('sandeep','male',add1)\n",
        "cust.print_address()\n",
        "\n",
        "cust.edit_profile('ankit','mumbai',111111,'maharastra')\n",
        "cust.print_address()\n",
        "\n"
      ],
      "metadata": {
        "id": "P6pDbePHqwFR",
        "colab": {
          "base_uri": "https://localhost:8080/"
        },
        "outputId": "a24b64bd-f133-4b5a-fe40-3a6d8be30605"
      },
      "execution_count": null,
      "outputs": [
        {
          "output_type": "stream",
          "name": "stdout",
          "text": [
            "gurgaon 122011 haryana\n",
            "mumbai 111111 maharastra\n"
          ]
        }
      ]
    },
    {
      "cell_type": "markdown",
      "source": [
        "### Inheritance\n",
        "\n",
        "- What is inheritance\n",
        "- Example\n",
        "- What gets inherited"
      ],
      "metadata": {
        "id": "9lkQ5-15QF7s"
      }
    },
    {
      "cell_type": "code",
      "source": [
        "class User:\n",
        "\n",
        "  def __init__(self):\n",
        "    self.name='sandeep'\n",
        "    self.gender='male'\n",
        "\n",
        "  def login(self):\n",
        "    print('login')\n",
        "\n",
        "  #child\n",
        "class Student(User):\n",
        "\n",
        "\n",
        "  # def __init__(self):\n",
        "  #     self.rollno=100\n",
        "\n",
        "  def enroll(self):\n",
        "      print('enroll into the course')\n",
        "\n",
        "\n",
        "\n",
        "\n",
        "u=User()\n",
        "s=Student()\n",
        "print(s.name)\n",
        "s.login()\n",
        "s.enroll()"
      ],
      "metadata": {
        "colab": {
          "base_uri": "https://localhost:8080/"
        },
        "id": "i94XNAMgPZN1",
        "outputId": "03ab863a-c9db-43c4-c366-cbd62b3c6f85"
      },
      "execution_count": null,
      "outputs": [
        {
          "output_type": "stream",
          "name": "stdout",
          "text": [
            "sandeep\n",
            "login\n",
            "enroll into the course\n"
          ]
        }
      ]
    },
    {
      "cell_type": "markdown",
      "source": [
        "### what get inherited\n",
        "- Constructor\n",
        "- Non Private Attributes\n",
        "- Non Private Methods"
      ],
      "metadata": {
        "id": "9PZb9ma6R-5J"
      }
    },
    {
      "cell_type": "code",
      "source": [
        "#constructor example\n",
        "class Phone:\n",
        "\n",
        "  def __init__(self,price,brand,camera):\n",
        "    print(\"Inside phone constructor\")\n",
        "    self.price=price\n",
        "    self.brand=brand\n",
        "    self.camera=camera\n",
        "\n",
        "  def buy(self):\n",
        "     print(\"Buying a phone\")\n",
        "\n",
        "class SmartPhone(Phone):\n",
        "  pass\n",
        "\n",
        "s=SmartPhone(2000,'Apple',13)\n",
        "s.buy()\n",
        "\n"
      ],
      "metadata": {
        "colab": {
          "base_uri": "https://localhost:8080/"
        },
        "id": "7i7PyjWuRHJR",
        "outputId": "ee80b48b-b867-4607-c405-a869bd6eb61c"
      },
      "execution_count": null,
      "outputs": [
        {
          "output_type": "stream",
          "name": "stdout",
          "text": [
            "Inside phone constructor\n",
            "Buying a phone\n",
            "Buying a phone\n",
            "None\n"
          ]
        }
      ]
    },
    {
      "cell_type": "code",
      "source": [
        "#constructoe example 2\n",
        "\n",
        "class Phone:\n",
        "  def __init__(self,price,braand,camera):\n",
        "    print(\"Inside phone constructor\")\n",
        "    self.__price=price\n",
        "    self.brand=brand\n",
        "    self.camera=camera\n",
        "\n",
        "class SmartPhone(Phone):\n",
        "  def __init__(self,os,ram):\n",
        "    self.os=os\n",
        "    self.ram=ram\n",
        "    print(\"Inside SmartPhone constructor\")\n",
        "\n",
        "s=SmartPhone(\"Android\",2)\n",
        "s.brand"
      ],
      "metadata": {
        "colab": {
          "base_uri": "https://localhost:8080/",
          "height": 224
        },
        "id": "agcBbz6UTDPh",
        "outputId": "5b8284f6-c2b0-4378-d047-d03234cada4c"
      },
      "execution_count": null,
      "outputs": [
        {
          "output_type": "stream",
          "name": "stdout",
          "text": [
            "Inside SmartPhone constructor\n"
          ]
        },
        {
          "output_type": "error",
          "ename": "AttributeError",
          "evalue": "ignored",
          "traceback": [
            "\u001b[0;31m---------------------------------------------------------------------------\u001b[0m",
            "\u001b[0;31mAttributeError\u001b[0m                            Traceback (most recent call last)",
            "\u001b[0;32m<ipython-input-17-a1607696c6dd>\u001b[0m in \u001b[0;36m<module>\u001b[0;34m\u001b[0m\n\u001b[1;32m     15\u001b[0m \u001b[0;34m\u001b[0m\u001b[0m\n\u001b[1;32m     16\u001b[0m \u001b[0ms\u001b[0m\u001b[0;34m=\u001b[0m\u001b[0mSmartPhone\u001b[0m\u001b[0;34m(\u001b[0m\u001b[0;34m\"Android\"\u001b[0m\u001b[0;34m,\u001b[0m\u001b[0;36m2\u001b[0m\u001b[0;34m)\u001b[0m\u001b[0;34m\u001b[0m\u001b[0;34m\u001b[0m\u001b[0m\n\u001b[0;32m---> 17\u001b[0;31m \u001b[0ms\u001b[0m\u001b[0;34m.\u001b[0m\u001b[0mbrand\u001b[0m\u001b[0;34m\u001b[0m\u001b[0;34m\u001b[0m\u001b[0m\n\u001b[0m",
            "\u001b[0;31mAttributeError\u001b[0m: 'SmartPhone' object has no attribute 'brand'"
          ]
        }
      ]
    },
    {
      "cell_type": "code",
      "source": [
        "#child can't access private member of the class\n",
        "\n",
        "class Phone:\n",
        "  def __init__(self,price,brand,camera):\n",
        "    print(\"Inside phone constructor\")\n",
        "    self.__price=price\n",
        "    self.brand=brand\n",
        "    self.camera=camera\n",
        "\n",
        "    getter\n",
        "  def show(self):\n",
        "    print(self.__price)\n",
        "\n",
        "class SmartPhone(Phone):\n",
        "  def check(self):\n",
        "    print(self.__price)\n",
        "\n",
        "s=SmartPhone(20000,\"Apple\",13)\n",
        "s.show()"
      ],
      "metadata": {
        "colab": {
          "base_uri": "https://localhost:8080/",
          "height": 369
        },
        "id": "E3X_INrDUDpR",
        "outputId": "e4875950-4d38-4590-ba27-fabcc9c0de87"
      },
      "execution_count": null,
      "outputs": [
        {
          "output_type": "stream",
          "name": "stdout",
          "text": [
            "Inside phone constructor\n"
          ]
        },
        {
          "output_type": "error",
          "ename": "NameError",
          "evalue": "ignored",
          "traceback": [
            "\u001b[0;31m---------------------------------------------------------------------------\u001b[0m",
            "\u001b[0;31mNameError\u001b[0m                                 Traceback (most recent call last)",
            "\u001b[0;32m<ipython-input-20-adb30bea192a>\u001b[0m in \u001b[0;36m<module>\u001b[0;34m\u001b[0m\n\u001b[1;32m     16\u001b[0m     \u001b[0mprint\u001b[0m\u001b[0;34m(\u001b[0m\u001b[0mself\u001b[0m\u001b[0;34m.\u001b[0m\u001b[0m__price\u001b[0m\u001b[0;34m)\u001b[0m\u001b[0;34m\u001b[0m\u001b[0;34m\u001b[0m\u001b[0m\n\u001b[1;32m     17\u001b[0m \u001b[0;34m\u001b[0m\u001b[0m\n\u001b[0;32m---> 18\u001b[0;31m \u001b[0ms\u001b[0m\u001b[0;34m=\u001b[0m\u001b[0mSmartPhone\u001b[0m\u001b[0;34m(\u001b[0m\u001b[0;36m20000\u001b[0m\u001b[0;34m,\u001b[0m\u001b[0;34m\"Apple\"\u001b[0m\u001b[0;34m,\u001b[0m\u001b[0;36m13\u001b[0m\u001b[0;34m)\u001b[0m\u001b[0;34m\u001b[0m\u001b[0;34m\u001b[0m\u001b[0m\n\u001b[0m\u001b[1;32m     19\u001b[0m \u001b[0ms\u001b[0m\u001b[0;34m.\u001b[0m\u001b[0mshow\u001b[0m\u001b[0;34m(\u001b[0m\u001b[0;34m)\u001b[0m\u001b[0;34m\u001b[0m\u001b[0;34m\u001b[0m\u001b[0m\n",
            "\u001b[0;32m<ipython-input-20-adb30bea192a>\u001b[0m in \u001b[0;36m__init__\u001b[0;34m(self, price, brand, camera)\u001b[0m\n\u001b[1;32m      8\u001b[0m     \u001b[0mself\u001b[0m\u001b[0;34m.\u001b[0m\u001b[0mcamera\u001b[0m\u001b[0;34m=\u001b[0m\u001b[0mcamera\u001b[0m\u001b[0;34m\u001b[0m\u001b[0;34m\u001b[0m\u001b[0m\n\u001b[1;32m      9\u001b[0m \u001b[0;34m\u001b[0m\u001b[0m\n\u001b[0;32m---> 10\u001b[0;31m     \u001b[0mgetter\u001b[0m\u001b[0;34m\u001b[0m\u001b[0;34m\u001b[0m\u001b[0m\n\u001b[0m\u001b[1;32m     11\u001b[0m   \u001b[0;32mdef\u001b[0m \u001b[0mshow\u001b[0m\u001b[0;34m(\u001b[0m\u001b[0mself\u001b[0m\u001b[0;34m)\u001b[0m\u001b[0;34m:\u001b[0m\u001b[0;34m\u001b[0m\u001b[0;34m\u001b[0m\u001b[0m\n\u001b[1;32m     12\u001b[0m     \u001b[0mprint\u001b[0m\u001b[0;34m(\u001b[0m\u001b[0mself\u001b[0m\u001b[0;34m.\u001b[0m\u001b[0m__price\u001b[0m\u001b[0;34m)\u001b[0m\u001b[0;34m\u001b[0m\u001b[0;34m\u001b[0m\u001b[0m\n",
            "\u001b[0;31mNameError\u001b[0m: name 'getter' is not defined"
          ]
        }
      ]
    },
    {
      "cell_type": "code",
      "source": [
        "class Parent:\n",
        "\n",
        "  def __init__(self,num):\n",
        "    self.__num=num\n",
        "\n",
        "  def get_num(self):\n",
        "    return self.__num\n",
        "\n",
        "class Child(Parent):\n",
        "\n",
        "  def show(self):\n",
        "    print(\"This is in child class \")\n",
        "\n",
        "son=Child(100)\n",
        "print(son.get_num())\n",
        "son.show()"
      ],
      "metadata": {
        "colab": {
          "base_uri": "https://localhost:8080/"
        },
        "id": "WZEw4MHDVFcH",
        "outputId": "2199233b-4d02-426c-f445-3ed3e2d5bac8"
      },
      "execution_count": null,
      "outputs": [
        {
          "output_type": "stream",
          "name": "stdout",
          "text": [
            "100\n",
            "This is in child class \n"
          ]
        }
      ]
    },
    {
      "cell_type": "code",
      "source": [
        "class Parent:\n",
        "\n",
        "  def __init__(self,num):\n",
        "    self.__num=num\n",
        "\n",
        "  def get_num(self):\n",
        "    return self.__num\n",
        "\n",
        "class Child(Parent):\n",
        "\n",
        "  def __init__(self,val,num):\n",
        "    self.__val=val\n",
        "\n",
        "  def get_val(self):\n",
        "    return self.__val\n",
        "son=Child(100,10)\n",
        "print(\"Parent: Num\",son.get_num())\n",
        "print('Child: Val:',son.get_val())"
      ],
      "metadata": {
        "colab": {
          "base_uri": "https://localhost:8080/",
          "height": 350
        },
        "id": "_T8oV4-xVqgm",
        "outputId": "7626291d-45f0-4500-f44a-b16775bb9f26"
      },
      "execution_count": null,
      "outputs": [
        {
          "output_type": "error",
          "ename": "AttributeError",
          "evalue": "ignored",
          "traceback": [
            "\u001b[0;31m---------------------------------------------------------------------------\u001b[0m",
            "\u001b[0;31mAttributeError\u001b[0m                            Traceback (most recent call last)",
            "\u001b[0;32m<ipython-input-23-e0b63f360cbd>\u001b[0m in \u001b[0;36m<module>\u001b[0;34m\u001b[0m\n\u001b[1;32m     15\u001b[0m     \u001b[0;32mreturn\u001b[0m \u001b[0mself\u001b[0m\u001b[0;34m.\u001b[0m\u001b[0m__val\u001b[0m\u001b[0;34m\u001b[0m\u001b[0;34m\u001b[0m\u001b[0m\n\u001b[1;32m     16\u001b[0m \u001b[0mson\u001b[0m\u001b[0;34m=\u001b[0m\u001b[0mChild\u001b[0m\u001b[0;34m(\u001b[0m\u001b[0;36m100\u001b[0m\u001b[0;34m,\u001b[0m\u001b[0;36m10\u001b[0m\u001b[0;34m)\u001b[0m\u001b[0;34m\u001b[0m\u001b[0;34m\u001b[0m\u001b[0m\n\u001b[0;32m---> 17\u001b[0;31m \u001b[0mprint\u001b[0m\u001b[0;34m(\u001b[0m\u001b[0;34m\"Parent: Num\"\u001b[0m\u001b[0;34m,\u001b[0m\u001b[0mson\u001b[0m\u001b[0;34m.\u001b[0m\u001b[0mget_num\u001b[0m\u001b[0;34m(\u001b[0m\u001b[0;34m)\u001b[0m\u001b[0;34m)\u001b[0m\u001b[0;34m\u001b[0m\u001b[0;34m\u001b[0m\u001b[0m\n\u001b[0m\u001b[1;32m     18\u001b[0m \u001b[0mprint\u001b[0m\u001b[0;34m(\u001b[0m\u001b[0;34m'Child: Val:'\u001b[0m\u001b[0;34m,\u001b[0m\u001b[0mson\u001b[0m\u001b[0;34m.\u001b[0m\u001b[0mget_val\u001b[0m\u001b[0;34m(\u001b[0m\u001b[0;34m)\u001b[0m\u001b[0;34m)\u001b[0m\u001b[0;34m\u001b[0m\u001b[0;34m\u001b[0m\u001b[0m\n",
            "\u001b[0;32m<ipython-input-23-e0b63f360cbd>\u001b[0m in \u001b[0;36mget_num\u001b[0;34m(self)\u001b[0m\n\u001b[1;32m      5\u001b[0m \u001b[0;34m\u001b[0m\u001b[0m\n\u001b[1;32m      6\u001b[0m   \u001b[0;32mdef\u001b[0m \u001b[0mget_num\u001b[0m\u001b[0;34m(\u001b[0m\u001b[0mself\u001b[0m\u001b[0;34m)\u001b[0m\u001b[0;34m:\u001b[0m\u001b[0;34m\u001b[0m\u001b[0;34m\u001b[0m\u001b[0m\n\u001b[0;32m----> 7\u001b[0;31m     \u001b[0;32mreturn\u001b[0m \u001b[0mself\u001b[0m\u001b[0;34m.\u001b[0m\u001b[0m__num\u001b[0m\u001b[0;34m\u001b[0m\u001b[0;34m\u001b[0m\u001b[0m\n\u001b[0m\u001b[1;32m      8\u001b[0m \u001b[0;34m\u001b[0m\u001b[0m\n\u001b[1;32m      9\u001b[0m \u001b[0;32mclass\u001b[0m \u001b[0mChild\u001b[0m\u001b[0;34m(\u001b[0m\u001b[0mParent\u001b[0m\u001b[0;34m)\u001b[0m\u001b[0;34m:\u001b[0m\u001b[0;34m\u001b[0m\u001b[0;34m\u001b[0m\u001b[0m\n",
            "\u001b[0;31mAttributeError\u001b[0m: 'Child' object has no attribute '_Parent__num'"
          ]
        }
      ]
    },
    {
      "cell_type": "code",
      "source": [
        "class A:\n",
        "  def __init__(self):\n",
        "    self.var1=100\n",
        "  def display1(self,var1):\n",
        "    print(\"class A:\",self.var1)\n",
        "\n",
        "class B(A):\n",
        "\n",
        "  def display2(self,var1):\n",
        "    print(\"class B\",self.var1)\n",
        "\n",
        "obj=B()\n",
        "obj.display1(200)"
      ],
      "metadata": {
        "colab": {
          "base_uri": "https://localhost:8080/"
        },
        "id": "-e7KKxCXW1Ta",
        "outputId": "a7c302ea-d542-4f92-a0b1-47a2788ae312"
      },
      "execution_count": null,
      "outputs": [
        {
          "output_type": "stream",
          "name": "stdout",
          "text": [
            "class A: 100\n"
          ]
        }
      ]
    },
    {
      "cell_type": "code",
      "source": [
        "#Method Overriding\n",
        "\n",
        "class Phone:\n",
        "\n",
        "  def __init__(self,price,brand,camera):\n",
        "    print(\"Inside phone constructor\")\n",
        "    self.__price=price\n",
        "    self.brand=brand\n",
        "    self.camera=camera\n",
        "\n",
        "  def buy(self):\n",
        "    print(\"Buying a phone\")\n",
        "\n",
        "class SmartPhone(Phone):\n",
        "  def buy(self):\n",
        "    print(\"Buying a smartphone\")\n",
        "\n",
        "s=SmartPhone(20000,\"Apple\",13)\n",
        "s.buy()"
      ],
      "metadata": {
        "colab": {
          "base_uri": "https://localhost:8080/"
        },
        "id": "eUP7Wc1vYoqq",
        "outputId": "cbc31e53-7ec7-4c95-9889-21c540831251"
      },
      "execution_count": null,
      "outputs": [
        {
          "output_type": "stream",
          "name": "stdout",
          "text": [
            "Inside phone constructor\n",
            "Buying a smartphone\n"
          ]
        }
      ]
    },
    {
      "cell_type": "code",
      "source": [],
      "metadata": {
        "id": "rRjDzHCvZUf0"
      },
      "execution_count": null,
      "outputs": []
    },
    {
      "cell_type": "markdown",
      "source": [
        "#Super Keyword"
      ],
      "metadata": {
        "id": "zWjNt-vdZn38"
      }
    },
    {
      "cell_type": "code",
      "source": [
        "class Phone:\n",
        "  def __init__(self,price,brand,camera):\n",
        "    print(\"Inside phone constructor\")\n",
        "    self.__price=price\n",
        "    self.brand=brand\n",
        "    self.camera=camera\n",
        "\n",
        "  def buy(self):\n",
        "    print(\"Buying a phone\")\n",
        "\n",
        "class SmartPhone(Phone):\n",
        "  def buy(self):\n",
        "    print(\"Buying a smartphone\")\n",
        "    #syntax to call parent ka buy method\n",
        "    super().buy()\n",
        "\n",
        "s=SmartPhone(2000,\"Apple\",13)\n",
        "s.buy()\n"
      ],
      "metadata": {
        "colab": {
          "base_uri": "https://localhost:8080/"
        },
        "id": "sSs5PxrGZqCo",
        "outputId": "a1173bc4-f161-4470-cb2a-c41cb2fbea51"
      },
      "execution_count": null,
      "outputs": [
        {
          "output_type": "stream",
          "name": "stdout",
          "text": [
            "Inside phone constructor\n",
            "Buying a smartphone\n",
            "Buying a phone\n"
          ]
        }
      ]
    },
    {
      "cell_type": "code",
      "source": [
        "#using super outside the class\n",
        "class Phone:\n",
        "  def __init__(self,price,brand,camera):\n",
        "    print(\"Inside phone constructor\")\n",
        "    self.__price=price\n",
        "    self.brand=brand\n",
        "    self.camera=camera\n",
        "\n",
        "  def buy(self):\n",
        "    print(\"Buying a phone\")\n",
        "\n",
        "class SmartPhone(Phone):\n",
        "  def buy(self):\n",
        "    print(\"Buying a smartPhone\")\n",
        "    #syntax to call parent ka buy method\n",
        "\n",
        "\n",
        "s=SmartPhone(20000,\"Apple\",13)\n",
        "super().buy()\n"
      ],
      "metadata": {
        "colab": {
          "base_uri": "https://localhost:8080/",
          "height": 224
        },
        "id": "lqOPrv0YaTbl",
        "outputId": "77339733-399f-4966-fa85-7bac2c5f961a"
      },
      "execution_count": null,
      "outputs": [
        {
          "output_type": "stream",
          "name": "stdout",
          "text": [
            "Inside phone constructor\n"
          ]
        },
        {
          "output_type": "error",
          "ename": "RuntimeError",
          "evalue": "ignored",
          "traceback": [
            "\u001b[0;31m---------------------------------------------------------------------------\u001b[0m",
            "\u001b[0;31mRuntimeError\u001b[0m                              Traceback (most recent call last)",
            "\u001b[0;32m<ipython-input-32-cab4a6436e93>\u001b[0m in \u001b[0;36m<module>\u001b[0;34m\u001b[0m\n\u001b[1;32m     17\u001b[0m \u001b[0;34m\u001b[0m\u001b[0m\n\u001b[1;32m     18\u001b[0m \u001b[0ms\u001b[0m\u001b[0;34m=\u001b[0m\u001b[0mSmartPhone\u001b[0m\u001b[0;34m(\u001b[0m\u001b[0;36m20000\u001b[0m\u001b[0;34m,\u001b[0m\u001b[0;34m\"Apple\"\u001b[0m\u001b[0;34m,\u001b[0m\u001b[0;36m13\u001b[0m\u001b[0;34m)\u001b[0m\u001b[0;34m\u001b[0m\u001b[0;34m\u001b[0m\u001b[0m\n\u001b[0;32m---> 19\u001b[0;31m \u001b[0msuper\u001b[0m\u001b[0;34m(\u001b[0m\u001b[0;34m)\u001b[0m\u001b[0;34m.\u001b[0m\u001b[0mbuy\u001b[0m\u001b[0;34m(\u001b[0m\u001b[0;34m)\u001b[0m\u001b[0;34m\u001b[0m\u001b[0;34m\u001b[0m\u001b[0m\n\u001b[0m",
            "\u001b[0;31mRuntimeError\u001b[0m: super(): no arguments"
          ]
        }
      ]
    },
    {
      "cell_type": "code",
      "source": [
        "#can super access parent ka data?\n",
        "#using super outside the class\n",
        "class Phone:\n",
        "  def __init__(self,price,brand,camera):\n",
        "    print(\"Inside phone constructor\")\n",
        "    self.__price=price\n",
        "    self.brand=brand\n",
        "    self.camera=camera\n",
        "\n",
        "  def buy(self):\n",
        "    print(\"Buying a phone\")\n",
        "\n",
        "class SmartPhone(Phone):\n",
        "  def buy(self):\n",
        "    print(\"Buying a smatrphone\")\n",
        "    #syntax to call parent ka buy method\n",
        "    print(super().brand)\n",
        "\n",
        "s=SmartPhone(20000,\"Apple\",13)\n",
        "s.buy()\n"
      ],
      "metadata": {
        "colab": {
          "base_uri": "https://localhost:8080/",
          "height": 369
        },
        "id": "8SMBkXLlbRDW",
        "outputId": "d4ee1116-09d2-4979-f359-7ae001c9d57d"
      },
      "execution_count": null,
      "outputs": [
        {
          "output_type": "stream",
          "name": "stdout",
          "text": [
            "Inside phone constructor\n",
            "Buying a smatrphone\n"
          ]
        },
        {
          "output_type": "error",
          "ename": "AttributeError",
          "evalue": "ignored",
          "traceback": [
            "\u001b[0;31m---------------------------------------------------------------------------\u001b[0m",
            "\u001b[0;31mAttributeError\u001b[0m                            Traceback (most recent call last)",
            "\u001b[0;32m<ipython-input-33-b17b29ddddf1>\u001b[0m in \u001b[0;36m<module>\u001b[0;34m\u001b[0m\n\u001b[1;32m     18\u001b[0m \u001b[0;34m\u001b[0m\u001b[0m\n\u001b[1;32m     19\u001b[0m \u001b[0ms\u001b[0m\u001b[0;34m=\u001b[0m\u001b[0mSmartPhone\u001b[0m\u001b[0;34m(\u001b[0m\u001b[0;36m20000\u001b[0m\u001b[0;34m,\u001b[0m\u001b[0;34m\"Apple\"\u001b[0m\u001b[0;34m,\u001b[0m\u001b[0;36m13\u001b[0m\u001b[0;34m)\u001b[0m\u001b[0;34m\u001b[0m\u001b[0;34m\u001b[0m\u001b[0m\n\u001b[0;32m---> 20\u001b[0;31m \u001b[0ms\u001b[0m\u001b[0;34m.\u001b[0m\u001b[0mbuy\u001b[0m\u001b[0;34m(\u001b[0m\u001b[0;34m)\u001b[0m\u001b[0;34m\u001b[0m\u001b[0;34m\u001b[0m\u001b[0m\n\u001b[0m",
            "\u001b[0;32m<ipython-input-33-b17b29ddddf1>\u001b[0m in \u001b[0;36mbuy\u001b[0;34m(self)\u001b[0m\n\u001b[1;32m     15\u001b[0m     \u001b[0mprint\u001b[0m\u001b[0;34m(\u001b[0m\u001b[0;34m\"Buying a smatrphone\"\u001b[0m\u001b[0;34m)\u001b[0m\u001b[0;34m\u001b[0m\u001b[0;34m\u001b[0m\u001b[0m\n\u001b[1;32m     16\u001b[0m     \u001b[0;31m#syntax to call parent ka buy method\u001b[0m\u001b[0;34m\u001b[0m\u001b[0;34m\u001b[0m\u001b[0m\n\u001b[0;32m---> 17\u001b[0;31m     \u001b[0mprint\u001b[0m\u001b[0;34m(\u001b[0m\u001b[0msuper\u001b[0m\u001b[0;34m(\u001b[0m\u001b[0;34m)\u001b[0m\u001b[0;34m.\u001b[0m\u001b[0mbrand\u001b[0m\u001b[0;34m)\u001b[0m\u001b[0;34m\u001b[0m\u001b[0;34m\u001b[0m\u001b[0m\n\u001b[0m\u001b[1;32m     18\u001b[0m \u001b[0;34m\u001b[0m\u001b[0m\n\u001b[1;32m     19\u001b[0m \u001b[0ms\u001b[0m\u001b[0;34m=\u001b[0m\u001b[0mSmartPhone\u001b[0m\u001b[0;34m(\u001b[0m\u001b[0;36m20000\u001b[0m\u001b[0;34m,\u001b[0m\u001b[0;34m\"Apple\"\u001b[0m\u001b[0;34m,\u001b[0m\u001b[0;36m13\u001b[0m\u001b[0;34m)\u001b[0m\u001b[0;34m\u001b[0m\u001b[0;34m\u001b[0m\u001b[0m\n",
            "\u001b[0;31mAttributeError\u001b[0m: 'super' object has no attribute 'brand'"
          ]
        }
      ]
    },
    {
      "cell_type": "code",
      "source": [
        "#super -> constructor\n",
        "class Phone:\n",
        "  def __init__(self,price,brand,camera):\n",
        "    print(\"Inside phone constructor\")\n",
        "    self.__price=price\n",
        "    self.brand=brand\n",
        "    self.camera=camera\n",
        "\n",
        "class SmartPhone(Phone):\n",
        "  def __init__(self,price,brand,camera,os,ram):\n",
        "    print(\"Inside smartphone constructor\")\n",
        "    super().__init__(price,brand,camera)\n",
        "    self.os=os\n",
        "    self.ram=ram\n",
        "    print(\"Inside smartphone constructor\")\n",
        "\n",
        "s=SmartPhone(20000,\"Smasung\",12,\"Android\",2)\n",
        "\n",
        "print(s.os)\n",
        "print(s.brand)"
      ],
      "metadata": {
        "colab": {
          "base_uri": "https://localhost:8080/"
        },
        "id": "joNjNv7Qcgbl",
        "outputId": "c9cb12af-aee0-40b5-d4ce-c74648e14cc7"
      },
      "execution_count": null,
      "outputs": [
        {
          "output_type": "stream",
          "name": "stdout",
          "text": [
            "Inside smartphone constructor\n",
            "Inside phone constructor\n",
            "Inside smartphone constructor\n",
            "Android\n",
            "Smasung\n"
          ]
        }
      ]
    },
    {
      "cell_type": "code",
      "source": [
        "#Inheritance summary\n",
        "class Parent:\n",
        "  def __init__(self,num):\n",
        "    self.__num=num\n",
        "\n",
        "  def get_num(self):\n",
        "    return self.__num\n",
        "\n",
        "class Child(Parent):\n",
        "\n",
        "  def __init__(self,num,val):\n",
        "    super().__init__(num)\n",
        "    self.__val=val\n",
        "\n",
        "  def get_val(self):\n",
        "    return self.__val\n",
        "\n",
        "son=Child(100,200)\n",
        "print(son.get_num())\n",
        "print(son.get_val())"
      ],
      "metadata": {
        "colab": {
          "base_uri": "https://localhost:8080/"
        },
        "id": "Gteb6bxhdfWH",
        "outputId": "98ecde56-523b-4325-a6bc-343e677ea568"
      },
      "execution_count": null,
      "outputs": [
        {
          "output_type": "stream",
          "name": "stdout",
          "text": [
            "100\n",
            "200\n"
          ]
        }
      ]
    },
    {
      "cell_type": "code",
      "source": [
        "class Parent:\n",
        "    def __init__(self):\n",
        "        self.num=100\n",
        "\n",
        "class Child(Parent):\n",
        "\n",
        "    def __init__(self):\n",
        "        super().__init__()\n",
        "        self.var=200\n",
        "\n",
        "    def show(self):\n",
        "        print(self.num)\n",
        "        print(self.var)\n",
        "\n",
        "son=Child()\n",
        "son.show()"
      ],
      "metadata": {
        "colab": {
          "base_uri": "https://localhost:8080/"
        },
        "id": "GUtgo_5NeaVY",
        "outputId": "d72f95d4-2ae6-4dcc-9bec-77be1ffd5537"
      },
      "execution_count": null,
      "outputs": [
        {
          "output_type": "stream",
          "name": "stdout",
          "text": [
            "100\n",
            "200\n"
          ]
        }
      ]
    },
    {
      "cell_type": "markdown",
      "source": [
        "### Type of Inheritance\n",
        "\n",
        "- Single\n",
        "- Multilevel\n",
        "- Hierarchical\n",
        "- Multiple\n",
        "- Hybrid"
      ],
      "metadata": {
        "id": "u9lvI1eifedN"
      }
    },
    {
      "cell_type": "code",
      "source": [
        "#Single\n",
        "class Phone:\n",
        "\n",
        "  def __init__(self,price,brand,camera):\n",
        "    print(\"Inside phone constructor\")\n",
        "    self.__price=price\n",
        "    self.brand=brand\n",
        "    self.camera=camera\n",
        "\n",
        "  def buy(self):\n",
        "     print(\"Buying a phone\")\n",
        "\n",
        "class SmartPhone(Phone):\n",
        "  pass\n",
        "\n",
        "SmartPhone(1000,\"Apple\",\"13px\").buy()"
      ],
      "metadata": {
        "colab": {
          "base_uri": "https://localhost:8080/"
        },
        "id": "s4JmUv9Kev6C",
        "outputId": "9f98a713-30e8-4aaf-8048-55edc71ef43b"
      },
      "execution_count": null,
      "outputs": [
        {
          "output_type": "stream",
          "name": "stdout",
          "text": [
            "Inside phone constructor\n",
            "Buying a phone\n"
          ]
        }
      ]
    },
    {
      "cell_type": "code",
      "source": [
        "#multilevel\n",
        "class Product:\n",
        "  def review(self):\n",
        "    print(\"Product customer review\")\n",
        "\n",
        "class Phone(Product):\n",
        "  def __init__(self,price,brand,camera):\n",
        "    print(\"Inside phone constructor\")\n",
        "    self.__price=price\n",
        "    self.brand=brand\n",
        "    self.camera=camera\n",
        "\n",
        "  def buy(self):\n",
        "    print(\"Buying a phone\")\n",
        "class SmartPhone(Phone):\n",
        "  pass\n",
        "s=SmartPhone(2000,\"Apple\",12)\n",
        "s.buy()\n",
        "s.review()\n",
        "\n",
        "\n"
      ],
      "metadata": {
        "colab": {
          "base_uri": "https://localhost:8080/"
        },
        "id": "DPZuS8XsgOBe",
        "outputId": "4c27b76e-c378-4757-9ae2-59ac89abb1f5"
      },
      "execution_count": null,
      "outputs": [
        {
          "output_type": "stream",
          "name": "stdout",
          "text": [
            "Inside phone constructor\n",
            "Buying a phone\n",
            "Product customer review\n"
          ]
        }
      ]
    },
    {
      "cell_type": "code",
      "source": [
        "#Heirarchical\n",
        "class Phone:\n",
        "\n",
        "  def __init__(self,price,brand,camera):\n",
        "    print(\"Inside phone constructor\")\n",
        "    self.__price=price\n",
        "    self.brand=brand\n",
        "    self.camera=camera\n",
        "\n",
        "\n",
        "  def buy(self):\n",
        "    print(\"Buying a phone\")\n",
        "\n",
        "class FeaturePhone(Phone):\n",
        "  pass\n",
        "\n",
        "SmartPhone(1000,\"Apple\",\"13px\").buy()\n",
        "FeaturePhone(10,\"Lava\",\"1px\").buy()"
      ],
      "metadata": {
        "colab": {
          "base_uri": "https://localhost:8080/"
        },
        "id": "T1nnSQYGkZQJ",
        "outputId": "de4d4574-58dc-4177-c6b3-9a8c47ba7db4"
      },
      "execution_count": null,
      "outputs": [
        {
          "output_type": "stream",
          "name": "stdout",
          "text": [
            "Inside phone constructor\n",
            "Buying a phone\n",
            "Inside phone constructor\n",
            "Buying a phone\n"
          ]
        }
      ]
    },
    {
      "cell_type": "code",
      "source": [
        "#Multiple\n",
        "\n",
        "class Phone:\n",
        "\n",
        "  def __init__(self,price,brand,camera):\n",
        "    print(\"Inside phone constructor\")\n",
        "    self.__price=price\n",
        "    self.brand=brand\n",
        "    self.camera=camera\n",
        "\n",
        "  def buy(self):\n",
        "    print(\"Buying a phone\")\n",
        "\n",
        "class Products:\n",
        "  def review(self):\n",
        "    print(\"Customer reveiw\")\n",
        "\n",
        "class SmartPhone(Phone,Product):\n",
        "  pass\n",
        "\n",
        "s=SmartPhone(2000,\"Apple\",12)\n",
        "s.buy()\n",
        "s.review()"
      ],
      "metadata": {
        "colab": {
          "base_uri": "https://localhost:8080/"
        },
        "id": "o_JBKAFxlMYh",
        "outputId": "1fd1a896-04f4-4c55-9bdb-cccdaf781e07"
      },
      "execution_count": null,
      "outputs": [
        {
          "output_type": "stream",
          "name": "stdout",
          "text": [
            "Inside phone constructor\n",
            "Buying a phone\n",
            "Product customer review\n"
          ]
        }
      ]
    },
    {
      "cell_type": "code",
      "source": [
        "#The diamond problem\n",
        "class Phone:\n",
        "\n",
        "  def __init__(self,price,brand,camera):\n",
        "    print(\"Inside phone constructor\")\n",
        "    self.__price=price\n",
        "    self.brand=brand\n",
        "    self.camera=camera\n",
        "\n",
        "  def buy(self):\n",
        "    print(\"Buying a phone\")\n",
        "\n",
        "class Product:\n",
        "  def buy(self):\n",
        "    print(\"Product buy method\")\n",
        "\n",
        "#Method resolution order\n",
        "class SmartPhone(Product,Phone):\n",
        "  pass\n",
        "\n",
        "s=SmartPhone(20000,\"Apple\",12)\n",
        "s.buy()"
      ],
      "metadata": {
        "colab": {
          "base_uri": "https://localhost:8080/"
        },
        "id": "wXhDacoJmOkr",
        "outputId": "2dc6bf10-5e0f-49d5-8b1b-2a53861adf76"
      },
      "execution_count": null,
      "outputs": [
        {
          "output_type": "stream",
          "name": "stdout",
          "text": [
            "Inside phone constructor\n",
            "Product buy method\n"
          ]
        }
      ]
    },
    {
      "cell_type": "markdown",
      "source": [
        "### Polymorphism\n",
        "\n",
        "- Method Overriding\n",
        "- Method Overloading\n",
        "- Opeartor Overloading\n"
      ],
      "metadata": {
        "id": "M8T35kEenR09"
      }
    },
    {
      "cell_type": "code",
      "source": [
        "class Shape:\n",
        "\n",
        "  def area(self,a,b=0):\n",
        "    if b == 0:\n",
        "      return 3.14*a*a\n",
        "    else:\n",
        "      return a*b\n",
        "s=Shape()\n",
        "\n",
        "print(s.area(2))\n",
        "print(s.area(3,4))"
      ],
      "metadata": {
        "colab": {
          "base_uri": "https://localhost:8080/"
        },
        "id": "a6Bs5AwLnDF3",
        "outputId": "c662d4af-7232-4c51-ffb6-3886da435b68"
      },
      "execution_count": null,
      "outputs": [
        {
          "output_type": "stream",
          "name": "stdout",
          "text": [
            "12.56\n",
            "12\n"
          ]
        }
      ]
    },
    {
      "cell_type": "code",
      "source": [
        "'hello' +'world'"
      ],
      "metadata": {
        "colab": {
          "base_uri": "https://localhost:8080/",
          "height": 36
        },
        "id": "WRVaC9fon4Tw",
        "outputId": "6e26c9e0-3119-4cd0-cd4b-fa4b7a3a6866"
      },
      "execution_count": null,
      "outputs": [
        {
          "output_type": "execute_result",
          "data": {
            "text/plain": [
              "'helloworld'"
            ],
            "application/vnd.google.colaboratory.intrinsic+json": {
              "type": "string"
            }
          },
          "metadata": {},
          "execution_count": 53
        }
      ]
    },
    {
      "cell_type": "code",
      "source": [
        "4+5"
      ],
      "metadata": {
        "colab": {
          "base_uri": "https://localhost:8080/"
        },
        "id": "i-SQWEiWoOcD",
        "outputId": "6feaaec5-9d48-4eb9-a484-36554d9f08de"
      },
      "execution_count": null,
      "outputs": [
        {
          "output_type": "execute_result",
          "data": {
            "text/plain": [
              "9"
            ]
          },
          "metadata": {},
          "execution_count": 54
        }
      ]
    },
    {
      "cell_type": "code",
      "source": [
        "[1,2,3] +[4,5]"
      ],
      "metadata": {
        "colab": {
          "base_uri": "https://localhost:8080/"
        },
        "id": "fHFikkkBoPdO",
        "outputId": "323bb471-11f0-4dc3-a648-992c8fbeac88"
      },
      "execution_count": null,
      "outputs": [
        {
          "output_type": "execute_result",
          "data": {
            "text/plain": [
              "[1, 2, 3, 4, 5]"
            ]
          },
          "metadata": {},
          "execution_count": 55
        }
      ]
    },
    {
      "cell_type": "markdown",
      "source": [
        "#Abstraction"
      ],
      "metadata": {
        "id": "8eaKWCrXoTGC"
      }
    },
    {
      "cell_type": "code",
      "source": [
        "from abc import ABC,abstractmethod\n",
        "class BankApp(ABC):\n",
        "\n",
        "  def database(self):\n",
        "    print(\"conncted to database\")\n",
        "\n",
        "  @abstractmethod\n",
        "  def security(self):\n",
        "    pass\n",
        "\n",
        "  @abstractmethod\n",
        "  def display(self):\n",
        "    pass"
      ],
      "metadata": {
        "id": "TIrwyH8VoRH7"
      },
      "execution_count": null,
      "outputs": []
    },
    {
      "cell_type": "code",
      "source": [
        "class MobileApp(BankApp):\n",
        "\n",
        "  def mobile_login(self):\n",
        "    print('login into mobile')\n",
        "\n",
        "  def security(self):\n",
        "    print('mobile security')\n",
        "\n",
        "  def display(self):\n",
        "    print('display')"
      ],
      "metadata": {
        "id": "Xq8taqW6ow3w"
      },
      "execution_count": null,
      "outputs": []
    },
    {
      "cell_type": "code",
      "source": [
        "mob= MobileApp()"
      ],
      "metadata": {
        "id": "9Wja3QUipDBZ"
      },
      "execution_count": null,
      "outputs": []
    },
    {
      "cell_type": "code",
      "source": [
        "mob.security()"
      ],
      "metadata": {
        "colab": {
          "base_uri": "https://localhost:8080/"
        },
        "id": "MnuiIQMXpNmH",
        "outputId": "ac9e20db-dabc-4645-93d9-9afb0757ac5d"
      },
      "execution_count": null,
      "outputs": [
        {
          "output_type": "stream",
          "name": "stdout",
          "text": [
            "mobile security\n"
          ]
        }
      ]
    },
    {
      "cell_type": "code",
      "source": [
        "obj=BankApp()"
      ],
      "metadata": {
        "colab": {
          "base_uri": "https://localhost:8080/",
          "height": 188
        },
        "id": "1jJHDEkqpepJ",
        "outputId": "8c574047-a7b9-4fbc-bd1a-5012c55a35ff"
      },
      "execution_count": null,
      "outputs": [
        {
          "output_type": "error",
          "ename": "TypeError",
          "evalue": "ignored",
          "traceback": [
            "\u001b[0;31m---------------------------------------------------------------------------\u001b[0m",
            "\u001b[0;31mTypeError\u001b[0m                                 Traceback (most recent call last)",
            "\u001b[0;32m<ipython-input-66-545fa19c7455>\u001b[0m in \u001b[0;36m<module>\u001b[0;34m\u001b[0m\n\u001b[0;32m----> 1\u001b[0;31m \u001b[0mobj\u001b[0m\u001b[0;34m=\u001b[0m\u001b[0mBankApp\u001b[0m\u001b[0;34m(\u001b[0m\u001b[0;34m)\u001b[0m\u001b[0;34m\u001b[0m\u001b[0;34m\u001b[0m\u001b[0m\n\u001b[0m",
            "\u001b[0;31mTypeError\u001b[0m: Can't instantiate abstract class BankApp with abstract methods display, security"
          ]
        }
      ]
    },
    {
      "cell_type": "code",
      "source": [],
      "metadata": {
        "id": "u9qSPaRUpkBu"
      },
      "execution_count": null,
      "outputs": []
    }
  ]
}