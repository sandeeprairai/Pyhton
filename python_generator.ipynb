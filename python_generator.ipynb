{
  "nbformat": 4,
  "nbformat_minor": 0,
  "metadata": {
    "colab": {
      "provenance": []
    },
    "kernelspec": {
      "name": "python3",
      "display_name": "Python 3"
    },
    "language_info": {
      "name": "python"
    }
  },
  "cells": [
    {
      "cell_type": "code",
      "execution_count": null,
      "metadata": {
        "id": "-vAJwg2-7pwO"
      },
      "outputs": [],
      "source": [
        "#what is generator\n",
        "#python generators are a simple way of creating iterators"
      ]
    },
    {
      "cell_type": "code",
      "source": [
        "def gen_demo():\n",
        "\n",
        "  yield \" first statement\"\n",
        "  yield \" second statement\"\n",
        "  yield \" third statement\""
      ],
      "metadata": {
        "id": "jhWfyZpB8Tmy"
      },
      "execution_count": null,
      "outputs": []
    },
    {
      "cell_type": "code",
      "source": [
        "gen=gen_demo()\n",
        "\n",
        "for i in gen:\n",
        "  print(i)"
      ],
      "metadata": {
        "colab": {
          "base_uri": "https://localhost:8080/"
        },
        "id": "Z2qA8uTm8jsC",
        "outputId": "ceb8cd85-11de-4a02-cfce-eef6eea5738d"
      },
      "execution_count": null,
      "outputs": [
        {
          "output_type": "stream",
          "name": "stdout",
          "text": [
            " first statement\n",
            " second statement\n",
            " third statement\n"
          ]
        }
      ]
    },
    {
      "cell_type": "code",
      "source": [
        "def square(num):\n",
        "  for i in range(1,num+1):\n",
        "    yield i**2\n",
        ""
      ],
      "metadata": {
        "id": "_Wc39USp8oJi"
      },
      "execution_count": null,
      "outputs": []
    },
    {
      "cell_type": "code",
      "source": [
        "gen=square(10)\n",
        "print(next(gen))\n",
        "print(next(gen))\n",
        "print(next(gen))\n",
        "\n",
        "for i in gen:\n",
        "  print(i)"
      ],
      "metadata": {
        "colab": {
          "base_uri": "https://localhost:8080/"
        },
        "id": "kEu7BU938y29",
        "outputId": "fff7b704-ed42-4446-cf2f-b47ef35b6cb3"
      },
      "execution_count": null,
      "outputs": [
        {
          "output_type": "stream",
          "name": "stdout",
          "text": [
            "1\n",
            "4\n",
            "9\n",
            "16\n",
            "25\n",
            "36\n",
            "49\n",
            "64\n",
            "81\n",
            "100\n"
          ]
        }
      ]
    },
    {
      "cell_type": "code",
      "source": [
        "#range function using generator\n",
        "def mera_range(start,end):\n",
        "\n",
        "  for i in range(start,end):\n",
        "    yield i"
      ],
      "metadata": {
        "id": "BpRaPE9588GQ"
      },
      "execution_count": null,
      "outputs": []
    },
    {
      "cell_type": "code",
      "source": [
        "for i in mera_range(15,26):\n",
        "  print(i)"
      ],
      "metadata": {
        "colab": {
          "base_uri": "https://localhost:8080/"
        },
        "id": "ZqotAJNr9LTI",
        "outputId": "0063a1e3-b5ac-44ba-ad0c-ad720ac9a6f0"
      },
      "execution_count": null,
      "outputs": [
        {
          "output_type": "stream",
          "name": "stdout",
          "text": [
            "15\n",
            "16\n",
            "17\n",
            "18\n",
            "19\n",
            "20\n",
            "21\n",
            "22\n",
            "23\n",
            "24\n",
            "25\n"
          ]
        }
      ]
    },
    {
      "cell_type": "code",
      "source": [
        "#generator expression\n",
        "#list comprehension\n",
        "L=[i**2 for i in range(1,101)]"
      ],
      "metadata": {
        "id": "CMWvo4119PiL"
      },
      "execution_count": null,
      "outputs": []
    },
    {
      "cell_type": "code",
      "source": [
        "gen=(i**2 for i in range(1,101))\n",
        "for i in gen:\n",
        "  print(i)"
      ],
      "metadata": {
        "colab": {
          "base_uri": "https://localhost:8080/"
        },
        "id": "IFYhrtyR9eGr",
        "outputId": "37d0bc35-d5ce-4d7d-bf35-9714691df7e4"
      },
      "execution_count": null,
      "outputs": [
        {
          "output_type": "stream",
          "name": "stdout",
          "text": [
            "1\n",
            "4\n",
            "9\n",
            "16\n",
            "25\n",
            "36\n",
            "49\n",
            "64\n",
            "81\n",
            "100\n",
            "121\n",
            "144\n",
            "169\n",
            "196\n",
            "225\n",
            "256\n",
            "289\n",
            "324\n",
            "361\n",
            "400\n",
            "441\n",
            "484\n",
            "529\n",
            "576\n",
            "625\n",
            "676\n",
            "729\n",
            "784\n",
            "841\n",
            "900\n",
            "961\n",
            "1024\n",
            "1089\n",
            "1156\n",
            "1225\n",
            "1296\n",
            "1369\n",
            "1444\n",
            "1521\n",
            "1600\n",
            "1681\n",
            "1764\n",
            "1849\n",
            "1936\n",
            "2025\n",
            "2116\n",
            "2209\n",
            "2304\n",
            "2401\n",
            "2500\n",
            "2601\n",
            "2704\n",
            "2809\n",
            "2916\n",
            "3025\n",
            "3136\n",
            "3249\n",
            "3364\n",
            "3481\n",
            "3600\n",
            "3721\n",
            "3844\n",
            "3969\n",
            "4096\n",
            "4225\n",
            "4356\n",
            "4489\n",
            "4624\n",
            "4761\n",
            "4900\n",
            "5041\n",
            "5184\n",
            "5329\n",
            "5476\n",
            "5625\n",
            "5776\n",
            "5929\n",
            "6084\n",
            "6241\n",
            "6400\n",
            "6561\n",
            "6724\n",
            "6889\n",
            "7056\n",
            "7225\n",
            "7396\n",
            "7569\n",
            "7744\n",
            "7921\n",
            "8100\n",
            "8281\n",
            "8464\n",
            "8649\n",
            "8836\n",
            "9025\n",
            "9216\n",
            "9409\n",
            "9604\n",
            "9801\n",
            "10000\n"
          ]
        }
      ]
    },
    {
      "cell_type": "code",
      "source": [
        "#Benifit of generator\n",
        "#1.Ease of Implementation"
      ],
      "metadata": {
        "id": "q3ye3XcT9lwE"
      },
      "execution_count": null,
      "outputs": []
    },
    {
      "cell_type": "code",
      "source": [
        "#2.Memory Efficient\n",
        "L=[x for x in range(100000)]\n",
        "gen=(x for x in range(100000))\n",
        "\n",
        "import sys\n",
        "print('Size of L in memory',sys.getsizeof(L))\n",
        "print('Size of gen in memory',sys.getsizeof(gen))\n",
        "\n"
      ],
      "metadata": {
        "colab": {
          "base_uri": "https://localhost:8080/"
        },
        "id": "XldpHfBz96ki",
        "outputId": "28a6d22e-44a2-4633-c249-9bb0c8a2ae33"
      },
      "execution_count": null,
      "outputs": [
        {
          "output_type": "stream",
          "name": "stdout",
          "text": [
            "Size of L in memory 800984\n",
            "Size of gen in memory 112\n"
          ]
        }
      ]
    },
    {
      "cell_type": "code",
      "source": [
        "#3.Representing infinite stream\n",
        "def all_even():\n",
        "  n=0\n",
        "  while True:\n",
        "    yield n\n",
        "    n+=2\n",
        ""
      ],
      "metadata": {
        "id": "82rpFSMU-FGa"
      },
      "execution_count": null,
      "outputs": []
    },
    {
      "cell_type": "code",
      "source": [
        "even_num_gen=all_even()\n",
        "next(even_num_gen)\n",
        "next(even_num_gen)"
      ],
      "metadata": {
        "colab": {
          "base_uri": "https://localhost:8080/"
        },
        "id": "qzSMJtn3-dMO",
        "outputId": "75a1affa-8640-4570-b614-47666a5bc203"
      },
      "execution_count": null,
      "outputs": [
        {
          "output_type": "execute_result",
          "data": {
            "text/plain": [
              "2"
            ]
          },
          "metadata": {},
          "execution_count": 17
        }
      ]
    },
    {
      "cell_type": "code",
      "source": [
        "#4.chaining generatos\n",
        "def fibonacci_numbers(nums):\n",
        "  x,y=0,1\n",
        "  for _ in range(nums):\n",
        "    x,y=y,x+y\n",
        "    yield x\n",
        "\n",
        "def square(nums):\n",
        "  for num in nums:\n",
        "    yield num**2\n",
        "print(sum(square(fibonacci_numbers(3))))"
      ],
      "metadata": {
        "colab": {
          "base_uri": "https://localhost:8080/"
        },
        "id": "eeYu5BPB-jGp",
        "outputId": "165423be-0062-4e19-f45f-696de477e6bf"
      },
      "execution_count": null,
      "outputs": [
        {
          "output_type": "stream",
          "name": "stdout",
          "text": [
            "6\n"
          ]
        }
      ]
    },
    {
      "cell_type": "code",
      "source": [],
      "metadata": {
        "id": "RgzcHWqT-2ei"
      },
      "execution_count": null,
      "outputs": []
    }
  ]
}