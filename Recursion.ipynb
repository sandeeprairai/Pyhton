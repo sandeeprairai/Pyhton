{
  "nbformat": 4,
  "nbformat_minor": 0,
  "metadata": {
    "colab": {
      "provenance": []
    },
    "kernelspec": {
      "name": "python3",
      "display_name": "Python 3"
    },
    "language_info": {
      "name": "python"
    }
  },
  "cells": [
    {
      "cell_type": "code",
      "execution_count": null,
      "metadata": {
        "colab": {
          "base_uri": "https://localhost:8080/"
        },
        "id": "1pE1QiWeFSWd",
        "outputId": "a450c779-96ed-4459-d2fc-4481f2f15a48"
      },
      "outputs": [
        {
          "output_type": "stream",
          "name": "stdout",
          "text": [
            "12\n"
          ]
        }
      ],
      "source": [
        "def mul(a,b):\n",
        "\n",
        "  if b==1:\n",
        "    return a\n",
        "\n",
        "  else:\n",
        "    return a + mul(a,b-1)\n",
        "print(mul(3,4))"
      ]
    },
    {
      "cell_type": "code",
      "source": [
        "def fact(number):\n",
        "  if number==1:\n",
        "    return 1\n",
        "  else:\n",
        "    return number * fact(number-1)\n",
        "print(fact(5))\n"
      ],
      "metadata": {
        "colab": {
          "base_uri": "https://localhost:8080/"
        },
        "id": "BqXn5eqVFhb2",
        "outputId": "ae7405e2-c2dd-4ca4-8fc8-1b6b2e32bc49"
      },
      "execution_count": null,
      "outputs": [
        {
          "output_type": "stream",
          "name": "stdout",
          "text": [
            "120\n"
          ]
        }
      ]
    },
    {
      "cell_type": "code",
      "source": [
        "def palin(text):\n",
        "  if len(text)<=1:\n",
        "    print(\"palindrome\")\n",
        "\n",
        "  else:\n",
        "    if text[0]==text[-1]:\n",
        "      palin(text[1:-1])\n",
        "    else:\n",
        "      print(\"not a palindrome\")\n",
        "palin(\"madam\")\n",
        "palin(\"malayalam\")\n",
        "palin(\"python\")\n"
      ],
      "metadata": {
        "colab": {
          "base_uri": "https://localhost:8080/"
        },
        "id": "5NSrxnCVGDqE",
        "outputId": "a01f2ab5-8f92-4d93-b9ca-b87e75e8fbd9"
      },
      "execution_count": null,
      "outputs": [
        {
          "output_type": "stream",
          "name": "stdout",
          "text": [
            "palindrome\n",
            "palindrome\n",
            "not a palindrome\n"
          ]
        }
      ]
    },
    {
      "cell_type": "code",
      "source": [
        "#the rabbit problem\n",
        "import time\n",
        "def fib(m):\n",
        "  if m==0 or m==1:\n",
        "    return 1\n",
        "  else:\n",
        "    return fib(m-1) + fib(m-2)\n",
        "start=time.time()\n",
        "print(fib(24))\n",
        "print(time.time()-start)"
      ],
      "metadata": {
        "colab": {
          "base_uri": "https://localhost:8080/"
        },
        "id": "UOK40DBxG0Cv",
        "outputId": "f7d47ed4-f65e-48ad-d7da-78dec012670c"
      },
      "execution_count": null,
      "outputs": [
        {
          "output_type": "stream",
          "name": "stdout",
          "text": [
            "75025\n",
            "0.046920061111450195\n"
          ]
        }
      ]
    },
    {
      "cell_type": "code",
      "source": [
        "import time\n",
        "def memo(m,d):\n",
        "  if m in d:\n",
        "    return d[m]\n",
        "  else:\n",
        "    d[m]= memo(m-1,d) + memo(m-2,d)\n",
        "    return d[m]\n",
        "\n",
        "\n",
        "d={0:1,1:1}\n",
        "start=time.time()\n",
        "print(memo(48,d))\n",
        "print(time.time()-start)\n",
        "print(d)\n"
      ],
      "metadata": {
        "colab": {
          "base_uri": "https://localhost:8080/"
        },
        "id": "Y4frgtbEJamo",
        "outputId": "5f7452f7-b6c4-46a8-df80-8982cb57ee77"
      },
      "execution_count": null,
      "outputs": [
        {
          "output_type": "stream",
          "name": "stdout",
          "text": [
            "7778742049\n",
            "0.0035812854766845703\n",
            "{0: 1, 1: 1, 2: 2, 3: 3, 4: 5, 5: 8, 6: 13, 7: 21, 8: 34, 9: 55, 10: 89, 11: 144, 12: 233, 13: 377, 14: 610, 15: 987, 16: 1597, 17: 2584, 18: 4181, 19: 6765, 20: 10946, 21: 17711, 22: 28657, 23: 46368, 24: 75025, 25: 121393, 26: 196418, 27: 317811, 28: 514229, 29: 832040, 30: 1346269, 31: 2178309, 32: 3524578, 33: 5702887, 34: 9227465, 35: 14930352, 36: 24157817, 37: 39088169, 38: 63245986, 39: 102334155, 40: 165580141, 41: 267914296, 42: 433494437, 43: 701408733, 44: 1134903170, 45: 1836311903, 46: 2971215073, 47: 4807526976, 48: 7778742049}\n"
          ]
        }
      ]
    },
    {
      "cell_type": "code",
      "source": [],
      "metadata": {
        "id": "FRfTOvlNLPh2"
      },
      "execution_count": null,
      "outputs": []
    }
  ]
}