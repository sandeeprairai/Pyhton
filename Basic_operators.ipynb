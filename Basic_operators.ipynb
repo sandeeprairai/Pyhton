{
  "nbformat": 4,
  "nbformat_minor": 0,
  "metadata": {
    "colab": {
      "provenance": []
    },
    "kernelspec": {
      "name": "python3",
      "display_name": "Python 3"
    },
    "language_info": {
      "name": "python"
    }
  },
  "cells": [
    {
      "cell_type": "code",
      "execution_count": null,
      "metadata": {
        "id": "tGKnvIk5pZOK"
      },
      "outputs": [],
      "source": [
        "#Opeartors in Python\n"
      ]
    },
    {
      "cell_type": "code",
      "source": [
        "#Arithmetic Operators\n",
        "\n",
        "print(5+6)\n",
        "print(5*8)\n",
        "print(5/2)\n",
        "print(5//2)\n",
        "print(5%2)\n",
        "print(5**2)\n"
      ],
      "metadata": {
        "colab": {
          "base_uri": "https://localhost:8080/"
        },
        "id": "PnAPjSDgphjy",
        "outputId": "b9bab3f9-23cc-4605-e37d-1aabc3c67123"
      },
      "execution_count": null,
      "outputs": [
        {
          "output_type": "stream",
          "name": "stdout",
          "text": [
            "11\n",
            "40\n",
            "2.5\n",
            "2\n",
            "1\n",
            "25\n"
          ]
        }
      ]
    },
    {
      "cell_type": "code",
      "source": [
        "#Relational Operators\n",
        "print(4>5)\n",
        "print(4<5)\n",
        "print(4>=4)\n",
        "print(4<=4)\n",
        "print(4==4)\n",
        "print(4!=4)"
      ],
      "metadata": {
        "colab": {
          "base_uri": "https://localhost:8080/"
        },
        "id": "5oY5PfbvpvzA",
        "outputId": "f7a461b0-e64e-47ab-93de-5787439dff05"
      },
      "execution_count": null,
      "outputs": [
        {
          "output_type": "stream",
          "name": "stdout",
          "text": [
            "False\n",
            "True\n",
            "True\n",
            "True\n",
            "True\n",
            "False\n"
          ]
        }
      ]
    },
    {
      "cell_type": "code",
      "source": [
        "#Logical Operators\n",
        "print(1 and 0)\n",
        "print(1 or 0)\n",
        "print(not 1)"
      ],
      "metadata": {
        "colab": {
          "base_uri": "https://localhost:8080/"
        },
        "id": "YEfwWzBDp-1d",
        "outputId": "1058df1a-be16-4979-d583-22913386909b"
      },
      "execution_count": null,
      "outputs": [
        {
          "output_type": "stream",
          "name": "stdout",
          "text": [
            "0\n",
            "1\n",
            "False\n"
          ]
        }
      ]
    },
    {
      "cell_type": "code",
      "source": [
        "#Bitwise Operators\n",
        "#bitwise and\n",
        "print(2 & 3)\n",
        "#bitwise or\n",
        "print(2 | 3)\n",
        "\n",
        "#bitwise xor\n",
        "print(2 ^ 3)\n",
        "\n",
        "print(~3)\n",
        "\n",
        "print(4 >> 2)\n",
        "\n",
        "print(5 << 2)"
      ],
      "metadata": {
        "colab": {
          "base_uri": "https://localhost:8080/"
        },
        "id": "OzhINqO7qHD8",
        "outputId": "6845e893-8e66-4e50-c2df-9b8cc357ca31"
      },
      "execution_count": null,
      "outputs": [
        {
          "output_type": "stream",
          "name": "stdout",
          "text": [
            "2\n",
            "3\n",
            "1\n",
            "-4\n",
            "1\n",
            "20\n"
          ]
        }
      ]
    },
    {
      "cell_type": "code",
      "source": [
        "#Assignment Operators\n",
        "a=2\n",
        "a%=2\n",
        "print(a)"
      ],
      "metadata": {
        "colab": {
          "base_uri": "https://localhost:8080/"
        },
        "id": "cj6KbMSOqhLZ",
        "outputId": "8e9fa13c-5192-4fb7-c2d5-6137031f2b7e"
      },
      "execution_count": null,
      "outputs": [
        {
          "output_type": "stream",
          "name": "stdout",
          "text": [
            "0\n"
          ]
        }
      ]
    },
    {
      "cell_type": "code",
      "source": [
        "#Membership Operators\n",
        "print('D' not in 'Delhi')\n",
        "print(1 in[2,3,5,6])\n",
        "\n"
      ],
      "metadata": {
        "colab": {
          "base_uri": "https://localhost:8080/"
        },
        "id": "7xazxmoTqqL1",
        "outputId": "d608fbb5-50a4-47d0-e136-398449d6d66b"
      },
      "execution_count": null,
      "outputs": [
        {
          "output_type": "stream",
          "name": "stdout",
          "text": [
            "False\n",
            "False\n"
          ]
        },
        {
          "output_type": "execute_result",
          "data": {
            "text/plain": [
              "1.4"
            ]
          },
          "metadata": {},
          "execution_count": 10
        }
      ]
    },
    {
      "cell_type": "code",
      "source": [
        "#Program - find the sum of 3 digit number enterd by the user\n",
        "number=int(input('Enter a 3 digit number'))\n",
        "a=number%10\n",
        "\n",
        "number=number//10\n",
        "b=number%10\n",
        "number=number//10\n",
        "c=number%10\n",
        "print(a+b+c)\n"
      ],
      "metadata": {
        "colab": {
          "base_uri": "https://localhost:8080/"
        },
        "id": "W4_VfJx8q1Oi",
        "outputId": "c096b68a-18c1-451f-d47a-88c5ea491a48"
      },
      "execution_count": null,
      "outputs": [
        {
          "output_type": "stream",
          "name": "stdout",
          "text": [
            "Enter a 3 digit number456\n",
            "15\n"
          ]
        }
      ]
    },
    {
      "cell_type": "code",
      "source": [
        "#If-else in python\n",
        "#login program and indentation\n",
        "email=input('Enter email:')\n",
        "password=input(\"enter password:\")\n",
        "\n",
        "if email=='sandeep123@gmail.com' and password=='1234':\n",
        "  print(\"welcome\")\n",
        "elif email=='sandeep123@gmail.com' and password!='1234':\n",
        "  print('Incorrect Password:')\n",
        "  password=input(\"Enter password Again\")\n",
        "  if password=='1234':\n",
        "    print(\"Welcome finally\")\n",
        "  else:\n",
        "    print(\"You can't do baby\")    "
      ],
      "metadata": {
        "colab": {
          "base_uri": "https://localhost:8080/"
        },
        "id": "koFLXxKgrkv3",
        "outputId": "521e9294-a469-46f1-a865-f108ce8b8fd9"
      },
      "execution_count": null,
      "outputs": [
        {
          "output_type": "stream",
          "name": "stdout",
          "text": [
            "Enter emailsandeep123@gmail.com\n",
            "enter password1243\n",
            "Incorrect Password\n",
            "Enter password Again1432\n",
            "You can't do baby\n"
          ]
        }
      ]
    },
    {
      "cell_type": "code",
      "source": [
        "#if-else examplea\n",
        "#min of 3 number\n",
        "a=int(input('first num'))\n",
        "b=int(input(\"second number\"))\n",
        "c=int(input(\"enter third number\"))\n",
        "if a<b and a<c:\n",
        "  print(\"smallest is\",a)\n",
        "elif b<c:\n",
        "  print('smallest is',b)\n",
        "else:\n",
        "  print(\"smallest is\",c)    "
      ],
      "metadata": {
        "colab": {
          "base_uri": "https://localhost:8080/"
        },
        "id": "ZTNz8mx-sZuN",
        "outputId": "11f02b94-ae1f-4fc7-d008-d9b54e6c0105"
      },
      "execution_count": null,
      "outputs": [
        {
          "output_type": "stream",
          "name": "stdout",
          "text": [
            "first num10\n",
            "second number20\n",
            "enter third number5\n",
            "smallest is 5\n"
          ]
        }
      ]
    },
    {
      "cell_type": "code",
      "source": [
        "#menu driven calculator\n",
        "menu=input(\"\"\"\n",
        "Hi! how can i help you.\n",
        "1.Enter 1 for Pin change\n",
        "2.Enter 2 for balance check.\n",
        "3. Enter 3 for withdrawl\n",
        "4.Enter 4 for exit\n",
        "\"\"\")\n",
        "\n",
        "if menu=='1':\n",
        "  print(\"Pin change\")\n",
        "elif menu=='2':\n",
        "  print(\"balance\")\n",
        "else:\n",
        "  print('exit')    "
      ],
      "metadata": {
        "colab": {
          "base_uri": "https://localhost:8080/"
        },
        "id": "5k4t6mXytEwa",
        "outputId": "b54a9b16-b3cd-4e9e-cd5d-cb79325a789f"
      },
      "execution_count": null,
      "outputs": [
        {
          "output_type": "stream",
          "name": "stdout",
          "text": [
            "\n",
            "Hi! how can i help you.\n",
            "1.Enter 1 for Pin change\n",
            "2.Enter 2 for balance check.\n",
            "3. Enter 3 for withdrawl\n",
            "4.Enter 4 for exit1\n",
            "Pin change\n"
          ]
        }
      ]
    },
    {
      "cell_type": "code",
      "source": [
        "#modules in Python\n",
        "#math\n",
        "import math\n",
        "math.sqrt(196)"
      ],
      "metadata": {
        "colab": {
          "base_uri": "https://localhost:8080/"
        },
        "id": "cTQx-CeXtl4C",
        "outputId": "fa0896bf-656f-4379-8cbb-fb6169e4939e"
      },
      "execution_count": null,
      "outputs": [
        {
          "output_type": "execute_result",
          "data": {
            "text/plain": [
              "14.0"
            ]
          },
          "metadata": {},
          "execution_count": 17
        }
      ]
    },
    {
      "cell_type": "code",
      "source": [
        "#Keyword\n",
        "import keyword\n",
        "print(keyword.kwlist)"
      ],
      "metadata": {
        "colab": {
          "base_uri": "https://localhost:8080/"
        },
        "id": "Wm9-XitQtzk3",
        "outputId": "818d4e19-43a7-4a86-b2b2-36df9a5e039b"
      },
      "execution_count": null,
      "outputs": [
        {
          "output_type": "stream",
          "name": "stdout",
          "text": [
            "['False', 'None', 'True', 'and', 'as', 'assert', 'async', 'await', 'break', 'class', 'continue', 'def', 'del', 'elif', 'else', 'except', 'finally', 'for', 'from', 'global', 'if', 'import', 'in', 'is', 'lambda', 'nonlocal', 'not', 'or', 'pass', 'raise', 'return', 'try', 'while', 'with', 'yield']\n"
          ]
        }
      ]
    },
    {
      "cell_type": "code",
      "source": [
        "#random\n",
        "import random\n",
        "print(random.randint(1,1000))"
      ],
      "metadata": {
        "colab": {
          "base_uri": "https://localhost:8080/"
        },
        "id": "d7Pd6g3Ot5g6",
        "outputId": "984a88ba-d3a8-427e-b911-fa97262a7cd5"
      },
      "execution_count": null,
      "outputs": [
        {
          "output_type": "stream",
          "name": "stdout",
          "text": [
            "258\n"
          ]
        }
      ]
    },
    {
      "cell_type": "code",
      "source": [
        "#datetime\n",
        "import datetime\n",
        "print(datetime.datetime.now())"
      ],
      "metadata": {
        "colab": {
          "base_uri": "https://localhost:8080/"
        },
        "id": "4BdOBEqeuCg8",
        "outputId": "1fa3b759-c271-417a-e4ac-add8d0be4aca"
      },
      "execution_count": null,
      "outputs": [
        {
          "output_type": "stream",
          "name": "stdout",
          "text": [
            "2023-02-25 17:57:20.027541\n"
          ]
        }
      ]
    },
    {
      "cell_type": "code",
      "source": [
        "help('modules')"
      ],
      "metadata": {
        "colab": {
          "base_uri": "https://localhost:8080/"
        },
        "id": "uqCW8U3LuLte",
        "outputId": "fa5f1117-bbea-49b1-8080-a73da3ce793f"
      },
      "execution_count": null,
      "outputs": [
        {
          "output_type": "stream",
          "name": "stdout",
          "text": [
            "\n",
            "Please wait a moment while I gather a list of all available modules...\n",
            "\n"
          ]
        },
        {
          "output_type": "stream",
          "name": "stderr",
          "text": [
            "/usr/local/lib/python3.8/dist-packages/IPython/kernel/__init__.py:12: ShimWarning: The `IPython.kernel` package has been deprecated since IPython 4.0.You should import from ipykernel or jupyter_client instead.\n",
            "  warn(\"The `IPython.kernel` package has been deprecated since IPython 4.0.\"\n",
            "/usr/local/lib/python3.8/dist-packages/llvmlite/llvmpy/__init__.py:3: UserWarning: The module `llvmlite.llvmpy` is deprecated and will be removed in the future.\n",
            "  warnings.warn(\n",
            "/usr/local/lib/python3.8/dist-packages/llvmlite/llvmpy/core.py:8: UserWarning: The module `llvmlite.llvmpy.core` is deprecated and will be removed in the future. Equivalent functionality is provided by `llvmlite.ir`.\n",
            "  warnings.warn(\n",
            "/usr/local/lib/python3.8/dist-packages/altair/vega/v5/__init__.py:18: AltairDeprecationWarning: The module altair.vega.v5 is deprecated and will be removed in Altair 5.\n",
            "  warnings.warn(\n",
            "/usr/local/lib/python3.8/dist-packages/altair/vegalite/v3/__init__.py:29: AltairDeprecationWarning: The module altair.vegalite.v3 is deprecated and will be removed in Altair 5. Use `import altair as alt` instead of `import altair.vegalite.v3 as alt`.\n",
            "  warnings.warn(\n",
            "WARNING: AstropyDeprecationWarning: The private astropy._erfa module has been made into its own package, pyerfa, which is a dependency of astropy and can be imported directly using \"import erfa\" [astropy._erfa]\n",
            "WARNING:astropy:AstropyDeprecationWarning: The private astropy._erfa module has been made into its own package, pyerfa, which is a dependency of astropy and can be imported directly using \"import erfa\"\n",
            "/usr/local/lib/python3.8/dist-packages/torch/cuda/__init__.py:497: UserWarning:\n",
            "\n",
            "Can't initialize NVML\n",
            "\n",
            "/usr/local/lib/python3.8/dist-packages/past/types/oldstr.py:5: DeprecationWarning:\n",
            "\n",
            "Using or importing the ABCs from 'collections' instead of from 'collections.abc' is deprecated since Python 3.3, and in 3.10 it will stop working\n",
            "\n",
            "/usr/local/lib/python3.8/dist-packages/intervaltree/intervaltree.py:37: DeprecationWarning:\n",
            "\n",
            "Using or importing the ABCs from 'collections' instead of from 'collections.abc' is deprecated since Python 3.3, and in 3.10 it will stop working\n",
            "\n",
            "/usr/local/lib/python3.8/dist-packages/jupyter_client/ssh/tunnel.py:57: DeprecationWarning:\n",
            "\n",
            "zmq.utils.strtypes is deprecated in pyzmq 23.\n",
            "\n",
            "/usr/local/lib/python3.8/dist-packages/librosa/core/constantq.py:1059: DeprecationWarning:\n",
            "\n",
            "`np.complex` is a deprecated alias for the builtin `complex`. To silence this warning, use `complex` by itself. Doing this will not modify any behavior and is safe. If you specifically wanted the numpy scalar type, use `np.complex128` here.\n",
            "Deprecated in NumPy 1.20; for more details and guidance: https://numpy.org/devdocs/release/1.20.0-notes.html#deprecations\n",
            "\n"
          ]
        },
        {
          "output_type": "stream",
          "name": "stdout",
          "text": [
            "Downloading http://dlib.net/files/shape_predictor_68_face_landmarks.dat.bz2 to /root/mlxtend_data/shape_predictor_68_face_landmarks.dat.bz2\n"
          ]
        },
        {
          "output_type": "stream",
          "name": "stderr",
          "text": [
            "/usr/local/lib/python3.8/dist-packages/nbconvert/filters/strings.py:22: DeprecationWarning:\n",
            "\n",
            "defusedxml.cElementTree is deprecated, import from defusedxml.ElementTree instead.\n",
            "\n",
            "/usr/local/lib/python3.8/dist-packages/nibabel/quaternions.py:31: DeprecationWarning:\n",
            "\n",
            "`np.float` is a deprecated alias for the builtin `float`. To silence this warning, use `float` by itself. Doing this will not modify any behavior and is safe. If you specifically wanted the numpy scalar type, use `np.float64` here.\n",
            "Deprecated in NumPy 1.20; for more details and guidance: https://numpy.org/devdocs/release/1.20.0-notes.html#deprecations\n",
            "\n",
            "/usr/lib/python3.8/pkgutil.py:92: UserWarning:\n",
            "\n",
            "The DICOM readers are highly experimental, unstable, and only work for Siemens time-series at the moment\n",
            "Please use with caution.  We would be grateful for your help in improving them\n",
            "\n",
            "/usr/local/lib/python3.8/dist-packages/nltk/twitter/__init__.py:20: UserWarning:\n",
            "\n",
            "The twython library has not been installed. Some functionality from the twitter package will not be available.\n",
            "\n",
            "/usr/lib/python3.8/pkgutil.py:92: UserWarning:\n",
            "\n",
            "The numpy.array_api submodule is still experimental. See NEP 47.\n",
            "\n",
            "/usr/local/lib/python3.8/dist-packages/pip/_vendor/packaging/version.py:111: DeprecationWarning:\n",
            "\n",
            "Creating a LegacyVersion has been deprecated and will be removed in the next major release\n",
            "\n",
            "/usr/local/lib/python3.8/dist-packages/pip/_vendor/packaging/version.py:111: DeprecationWarning:\n",
            "\n",
            "Creating a LegacyVersion has been deprecated and will be removed in the next major release\n",
            "\n",
            "/usr/local/lib/python3.8/dist-packages/statsmodels/tools/numdiff.py:51: DeprecationWarning: `np.MachAr` is deprecated (NumPy 1.22).\n",
            "/usr/lib/python3.8/pkgutil.py:92: UserWarning: Viewer requires Qt\n",
            "/usr/lib/python3.8/pkgutil.py:92: RemovedIn20Warning: Deprecated API features detected! These feature(s) are not compatible with SQLAlchemy 2.0. To prevent incompatible upgrades prior to updating applications, ensure requirements files are pinned to \"sqlalchemy<2.0\". Set environment variable SQLALCHEMY_WARN_20=1 to show all deprecation warnings.  Set environment variable SQLALCHEMY_SILENCE_UBER_WARNING=1 to silence this message. (Background on SQLAlchemy 2.0 at: https://sqlalche.me/e/b8d9)\n",
            "/usr/local/lib/python3.8/dist-packages/marshmallow/fields.py:573: RemovedInMarshmallow4Warning: The 'missing' argument to fields is deprecated. Use 'load_default' instead.\n",
            "/usr/local/lib/python3.8/dist-packages/tensorboard/_vendor/html5lib/filters/sanitizer.py:29: DeprecationWarning: html5lib's sanitizer is deprecated; see https://github.com/html5lib/html5lib-python/issues/443 and please let us know if Bleach is unsuitable for your needs\n",
            "/usr/local/lib/python3.8/dist-packages/torch/distributed/_sharded_tensor/__init__.py:8: DeprecationWarning: torch.distributed._sharded_tensor will be deprecated, use torch.distributed._shard.sharded_tensor instead\n",
            "/usr/local/lib/python3.8/dist-packages/torch/distributed/_sharding_spec/__init__.py:8: DeprecationWarning: torch.distributed._sharding_spec will be deprecated, use torch.distributed._shard.sharding_spec instead\n",
            "No CUDA runtime is found, using CUDA_HOME='/usr/local/cuda'\n",
            "/usr/lib/python3.8/pkgutil.py:107: VisibleDeprecationWarning: zmq.eventloop.minitornado is deprecated in pyzmq 14.0 and will be removed.\n",
            "    Install tornado itself to use zmq with the tornado IOLoop.\n",
            "    \n"
          ]
        },
        {
          "output_type": "stream",
          "name": "stdout",
          "text": [
            "Cython              cmdstanpy           jupyter_client      regex\n",
            "IPython             code                jupyter_console     reprlib\n",
            "OpenGL              codecs              jupyter_core        requests\n",
            "PIL                 codeop              jupyterlab_plotly   requests_oauthlib\n",
            "__future__          colab               jupyterlab_widgets  requests_unixsocket\n",
            "_abc                collections         kaggle              resampy\n",
            "_argon2_cffi_bindings colorcet            kanren              resource\n",
            "_ast                colorlover          kapre               rlcompleter\n",
            "_asyncio            colorsys            keras               rmagic\n",
            "_bisect             community           keyword             rpy2\n",
            "_blake2             compileall          kiwisolver          rsa\n",
            "_bootlocale         concurrent          korean_lunar_calendar runpy\n",
            "_bz2                confection          langcodes           sched\n",
            "_cffi_backend       configparser        lib2to3             scipy\n",
            "_codecs             cons                libfuturize         scs\n",
            "_codecs_cn          contextlib          libpasteurize       seaborn\n",
            "_codecs_hk          contextlib2         librosa             secrets\n",
            "_codecs_iso2022     contextvars         lightgbm            select\n",
            "_codecs_jp          convertdate         linecache           selectors\n",
            "_codecs_kr          copy                llvmlite            send2trash\n",
            "_codecs_tw          copyreg             lmdb                setuptools\n",
            "_collections        crashtest           locale              shapely\n",
            "_collections_abc    crcmod              locket              shelve\n",
            "_compat_pickle      crypt               logging             shlex\n",
            "_compression        csimdjson           lsb_release         shutil\n",
            "_contextvars        csv                 lunarcalendar       signal\n",
            "_crypt              ctypes              lxml                simdjson\n",
            "_csv                cufflinks           lzma                site\n",
            "_ctypes             curses              mailbox             sitecustomize\n",
            "_ctypes_test        cv2                 mailcap             six\n",
            "_curses             cvxopt              markdown            skimage\n",
            "_curses_panel       cvxpy               markupsafe          sklearn\n",
            "_cvxcore            cycler              marshal             sklearn_pandas\n",
            "_datetime           cymem               marshmallow         slugify\n",
            "_dbm                cython              math                smart_open\n",
            "_dbus_bindings      cythonmagic         matplotlib          smtpd\n",
            "_dbus_glib_bindings daft                matplotlib_venn     smtplib\n",
            "_decimal            dask                mimetypes           sndhdr\n",
            "_distutils_hack     dataclasses         missingno           snowballstemmer\n",
            "_dlib_pybind11      datascience         mistune             socket\n",
            "_dummy_thread       datetime            mizani              socketserver\n",
            "_ecos               dateutil            mlxtend             socks\n",
            "_elementtree        db_dtypes           mmap                sockshandler\n",
            "_functools          dbm                 modulefinder        softwareproperties\n",
            "_hashlib            dbus                more_itertools      sortedcontainers\n",
            "_heapq              debugpy             moviepy             soundfile\n",
            "_imp                decimal             mpmath              spacy\n",
            "_io                 decorator           msgpack             spacy_legacy\n",
            "_json               defusedxml          multidict           spacy_loggers\n",
            "_locale             descartes           multipledispatch    sphinx\n",
            "_lsprof             difflib             multiprocessing     spwd\n",
            "_lzma               dill                multitasking        sql\n",
            "_markupbase         dis                 murmurhash          sqlalchemy\n",
            "_md5                distributed         music21             sqlite3\n",
            "_multibytecodec     distutils           natsort             sqlparse\n",
            "_multiprocessing    dlib                nbconvert           sre_compile\n",
            "_opcode             dns                 nbformat            sre_constants\n",
            "_operator           docs                netCDF4             sre_parse\n",
            "_osx_support        doctest             netrc               srsly\n",
            "_pickle             docutils            networkx            ssl\n",
            "_plotly_future_     dopamine            nibabel             stan\n",
            "_plotly_utils       dot_parser          nis                 stat\n",
            "_posixshmem         dummy_threading     nisext              statistics\n",
            "_posixsubprocess    easydict            nltk                statsmodels\n",
            "_py_abc             ecos                nntplib             storemagic\n",
            "_pydecimal          editdistance        notebook            string\n",
            "_pyio               ee                  ntpath              stringprep\n",
            "_pyrsistent_version email               nturl2path          struct\n",
            "_pytest             en_core_web_sm      numba               subprocess\n",
            "_queue              encodings           numbergen           sunau\n",
            "_random             entrypoints         numbers             symbol\n",
            "_rinterface_cffi_abi enum                numexpr             sympy\n",
            "_rinterface_cffi_api ephem               numpy               sympyprinting\n",
            "_scs_direct         erfa                oauth2client        symtable\n",
            "_scs_indirect       errno               oauthlib            sys\n",
            "_sha1               et_xmlfile          okgrade             sysconfig\n",
            "_sha256             etils               opcode              syslog\n",
            "_sha3               etuples             openpyxl            tables\n",
            "_sha512             fa2                 operator            tabnanny\n",
            "_signal             fastai              opt_einsum          tabulate\n",
            "_sitebuiltins       fastcore            optparse            tarfile\n",
            "_socket             fastdownload        os                  tblib\n",
            "_soundfile          fastdtw             osgeo               telnetlib\n",
            "_soundfile_data     fastjsonschema      osgeo_utils         tempfile\n",
            "_sqlite3            fastprogress        osqp                tenacity\n",
            "_sre                fastrlock           osqppurepy          tensorboard\n",
            "_ssl                faulthandler        ossaudiodev         tensorboard_data_server\n",
            "_stat               fcntl               packaging           tensorboard_plugin_wit\n",
            "_statistics         feather             palettable          tensorflow\n",
            "_string             filecmp             pandas              tensorflow_datasets\n",
            "_strptime           fileinput           pandas_datareader   tensorflow_estimator\n",
            "_struct             filelock            pandas_gbq          tensorflow_gcs_config\n",
            "_symtable           firebase_admin      pandas_profiling    tensorflow_hub\n",
            "_sysconfigdata__linux_x86_64-linux-gnu fix_yahoo_finance   pandocfilters       tensorflow_io_gcs_filesystem\n",
            "_sysconfigdata__x86_64-linux-gnu flask               panel               tensorflow_metadata\n",
            "_testbuffer         flatbuffers         param               tensorflow_probability\n",
            "_testcapi           fnmatch             parser              termcolor\n",
            "_testimportmultiple folium              parso               terminado\n",
            "_testinternalcapi   fontTools           partd               termios\n",
            "_testmultiphase     formatter           past                test\n",
            "_thread             fractions           pasta               testpath\n",
            "_threading_local    frozenlist          pastel              tests\n",
            "_tkinter            fsspec              pathlib             text_unidecode\n",
            "_tracemalloc        ftplib              pathy               textblob\n",
            "_uuid               functools           patsy               textwrap\n",
            "_warnings           functorch           pdb                 thinc\n",
            "_weakref            future              pep517              this\n",
            "_weakrefset         gast                pexpect             threading\n",
            "_xxsubinterpreters  gc                  pickle              threadpoolctl\n",
            "_xxtestfuzz         gdown               pickleshare         tifffile\n",
            "_yaml               genericpath         pickletools         time\n",
            "abc                 gensim              pip                 timeit\n",
            "absl                geographiclib       pipes               tkinter\n",
            "aeppl               geopy               piptools            tlz\n",
            "aesara              getopt              pkg_resources       token\n",
            "aifc                getpass             pkgutil             tokenize\n",
            "aiohttp             gettext             platform            toml\n",
            "aiosignal           gi                  platformdirs        tomli\n",
            "alabaster           gin                 plistlib            toolz\n",
            "albumentations      glob                plotly              torch\n",
            "altair              glob2               plotlywidget        torchaudio\n",
            "antigravity         google_auth_httplib2 plotnine            torchgen\n",
            "apiclient           google_auth_oauthlib pluggy              torchsummary\n",
            "appdirs             google_crc32c       pooch               torchtext\n",
            "apt                 google_drive_downloader poplib              torchvision\n",
            "apt_inst            googleapiclient     portpicker          tornado\n",
            "apt_pkg             googlesearch        posix               tqdm\n",
            "aptsources          graphviz            posixpath           trace\n",
            "argon2              greenlet            pprint              traceback\n",
            "argparse            gridfs              prefetch_generator  tracemalloc\n",
            "array               grp                 preshed             traitlets\n",
            "arviz               grpc                prettytable         tree\n",
            "ast                 grpc_status         profile             tty\n",
            "astor               gspread             progressbar         turtle\n",
            "astropy             gspread_dataframe   prometheus_client   tweepy\n",
            "astunparse          gym                 promise             typeguard\n",
            "async_timeout       gym_notices         prompt_toolkit      typer\n",
            "asynchat            gzip                prophet             types\n",
            "asyncio             h5py                proto               typing\n",
            "asyncore            hashlib             pstats              typing_extensions\n",
            "atari_py            heapdict            psutil              tzlocal\n",
            "atexit              heapq               psycopg2            unicodedata\n",
            "atomicwrites        hijri_converter     pty                 unification\n",
            "attr                hmac                ptyprocess          unittest\n",
            "attrs               holidays            pwd                 uritemplate\n",
            "audioop             holoviews           py                  urllib\n",
            "audioread           html                py_compile          urllib3\n",
            "autograd            html5lib            pyarrow             uu\n",
            "autoreload          http                pyasn1              uuid\n",
            "babel               httpimport          pyasn1_modules      vega_datasets\n",
            "backcall            httplib2            pyclbr              venv\n",
            "base64              httpstan            pycocotools         vis\n",
            "bdb                 humanize            pycparser           warnings\n",
            "bin                 hyperopt            pyct                wasabi\n",
            "binascii            idna                pydantic            wave\n",
            "binhex              imageio             pydata_google_auth  wcwidth\n",
            "bisect              imagesize           pydoc               weakref\n",
            "bleach              imaplib             pydoc_data          webargs\n",
            "blis                imblearn            pydot               webbrowser\n",
            "bokeh               imgaug              pydot_ng            webencodings\n",
            "boost               imghdr              pydotplus           werkzeug\n",
            "branca              imp                 pydrive             wheel\n",
            "bs4                 importlib           pyemd               widgetsnbextension\n",
            "bson                importlib_metadata  pyexpat             wordcloud\n",
            "builtins            importlib_resources pygments            wrapt\n",
            "bz2                 imutils             pygtkcompat         wsgiref\n",
            "cProfile            inflect             pylab               xarray\n",
            "cachecontrol        inspect             pylev               xarray_einstats\n",
            "cachetools          intervaltree        pymc                xdrlib\n",
            "calendar            io                  pymeeus             xgboost\n",
            "catalogue           ipaddress           pymongo             xkit\n",
            "certifi             ipykernel           pymystem3           xlrd\n",
            "cffi                ipykernel_launcher  pyparsing           xlwt\n",
            "cftime              ipython_genutils    pyrsistent          xml\n",
            "cgi                 ipywidgets          pytest              xmlrpc\n",
            "cgitb               isympy              python_utils        xxlimited\n",
            "chardet             itertools           pytz                xxsubtype\n",
            "charset_normalizer  itsdangerous        pyviz_comms         yaml\n",
            "chunk               jax                 pywt                yarl\n",
            "clang               jaxlib              pyximport           yellowbrick\n",
            "click               jieba               qdldl               zict\n",
            "client              jinja2              qudida              zipapp\n",
            "clikit              joblib              queue               zipfile\n",
            "cloudpickle         jpeg4py             quopri              zipimport\n",
            "cmake               json                random              zipp\n",
            "cmath               jsonschema          re                  zlib\n",
            "cmd                 jupyter             readline            zmq\n",
            "\n",
            "Enter any module name to get more help.  Or, type \"modules spam\" to search\n",
            "for modules whose name or summary contain the string \"spam\".\n",
            "\n"
          ]
        }
      ]
    },
    {
      "cell_type": "code",
      "source": [
        "#Loops in python\n",
        "#while Loop\n",
        "#for loops\n",
        "number=int(input(\"Enter the number\"))\n",
        "i=1\n",
        "while i<11:\n",
        "  print(number,'*',i,'=',number*i)\n",
        "  i+=1\n",
        "\n"
      ],
      "metadata": {
        "colab": {
          "base_uri": "https://localhost:8080/"
        },
        "id": "HTTKzlNDuQKy",
        "outputId": "0b76f3ea-4e66-4d8c-acaf-cad297d4b0ca"
      },
      "execution_count": null,
      "outputs": [
        {
          "output_type": "stream",
          "name": "stdout",
          "text": [
            "Enter the number10\n",
            "10 * 1 = 10\n",
            "10 * 2 = 20\n",
            "10 * 3 = 30\n",
            "10 * 4 = 40\n",
            "10 * 5 = 50\n",
            "10 * 6 = 60\n",
            "10 * 7 = 70\n",
            "10 * 8 = 80\n",
            "10 * 9 = 90\n",
            "10 * 10 = 100\n"
          ]
        }
      ]
    },
    {
      "cell_type": "code",
      "source": [
        "#while loop with else\n",
        "x=1\n",
        "while x< 3:\n",
        "  print(x)\n",
        "  x+=1\n",
        "else:\n",
        "  print('limited crossed')  "
      ],
      "metadata": {
        "colab": {
          "base_uri": "https://localhost:8080/"
        },
        "id": "gxF4Y2u2u3bs",
        "outputId": "b8e46c68-b635-4254-8d34-55db338223e9"
      },
      "execution_count": null,
      "outputs": [
        {
          "output_type": "stream",
          "name": "stdout",
          "text": [
            "1\n",
            "2\n",
            "limited crossed\n"
          ]
        }
      ]
    },
    {
      "cell_type": "code",
      "source": [
        "#Guessing game\n",
        "# Guessing game\n",
        "\n",
        "# generate a random integer between 1 and 100\n",
        "import random\n",
        "jackpot = random.randint(1,100)\n",
        "\n",
        "guess = int(input('guess karo'))\n",
        "counter = 1\n",
        "while guess != jackpot:\n",
        "  if guess < jackpot:\n",
        "    print('galat!guess higher')\n",
        "  else:\n",
        "    print('galat!guess lower')\n",
        "\n",
        "  guess = int(input('guess karo'))\n",
        "  counter += 1\n",
        "\n",
        "else:\n",
        "  print('correct guess')\n",
        "  print('attempts',counter)\n",
        "\n",
        "  \n"
      ],
      "metadata": {
        "colab": {
          "base_uri": "https://localhost:8080/"
        },
        "id": "bqqL-cQuvFdX",
        "outputId": "a40a75fb-3445-4fc5-9d77-ec0b948a24b6"
      },
      "execution_count": null,
      "outputs": [
        {
          "output_type": "stream",
          "name": "stdout",
          "text": [
            "guess karo10\n",
            "galat!guess higher\n",
            "guess karo12\n",
            "galat!guess higher\n",
            "guess karo15\n",
            "galat!guess higher\n",
            "guess karo20\n",
            "galat!guess higher\n",
            "guess karo25\n",
            "galat!guess higher\n",
            "guess karo50\n",
            "galat!guess higher\n",
            "guess karo100\n",
            "galat!guess lower\n",
            "guess karo95\n",
            "galat!guess lower\n",
            "guess karo90\n",
            "galat!guess lower\n",
            "guess karo80\n",
            "galat!guess higher\n",
            "guess karo70\n",
            "galat!guess higher\n",
            "guess karo75\n",
            "galat!guess higher\n",
            "guess karo76\n",
            "galat!guess higher\n",
            "guess karo77\n",
            "galat!guess higher\n",
            "guess karo78\n",
            "galat!guess higher\n",
            "guess karo79\n",
            "galat!guess higher\n",
            "guess karo80\n",
            "galat!guess higher\n",
            "guess karo8\n",
            "galat!guess higher\n",
            "guess karo81\n",
            "galat!guess higher\n",
            "guess karo82\n",
            "galat!guess higher\n",
            "guess karo83\n",
            "galat!guess higher\n",
            "guess karo84\n",
            "galat!guess higher\n",
            "guess karo85\n",
            "galat!guess higher\n",
            "guess karo86\n",
            "galat!guess higher\n",
            "guess karo87\n",
            "correct guess\n",
            "attempts 25\n"
          ]
        }
      ]
    },
    {
      "cell_type": "code",
      "source": [
        "#for loop demo\n",
        "for i in {1,2,3,4,5,6,7,8,9}:\n",
        "  print(i)"
      ],
      "metadata": {
        "colab": {
          "base_uri": "https://localhost:8080/"
        },
        "id": "ONtZDxqvwKPq",
        "outputId": "e28bec62-2d86-4cef-a21d-471e97af4f15"
      },
      "execution_count": null,
      "outputs": [
        {
          "output_type": "stream",
          "name": "stdout",
          "text": [
            "1\n",
            "2\n",
            "3\n",
            "4\n",
            "5\n",
            "6\n",
            "7\n",
            "8\n",
            "9\n"
          ]
        }
      ]
    },
    {
      "cell_type": "code",
      "source": [
        "a = 2\n",
        "\n",
        "# a = a % 2\n",
        "a %= 2\n",
        "\n",
        "# a++ ++a\n",
        "print(a)\n",
        "\n",
        "\n"
      ],
      "metadata": {
        "id": "Mo8-cGHjwn99",
        "colab": {
          "base_uri": "https://localhost:8080/"
        },
        "outputId": "e3191efe-069e-47d8-e781-86783421adb3"
      },
      "execution_count": null,
      "outputs": [
        {
          "output_type": "stream",
          "name": "stdout",
          "text": [
            "0\n"
          ]
        }
      ]
    },
    {
      "cell_type": "code",
      "source": [],
      "metadata": {
        "id": "5__u3fytxZcT"
      },
      "execution_count": null,
      "outputs": []
    }
  ]
}